{
 "cells": [
  {
   "cell_type": "code",
   "execution_count": 1,
   "id": "ce61f80a",
   "metadata": {},
   "outputs": [],
   "source": [
    "## Functions"
   ]
  },
  {
   "cell_type": "code",
   "execution_count": 13,
   "id": "8ef49efa",
   "metadata": {},
   "outputs": [
    {
     "name": "stdout",
     "output_type": "stream",
     "text": [
      "hi\n"
     ]
    }
   ],
   "source": [
    "def my_func():\n",
    "    return \"hi\"\n",
    "    return \"hello\"\n",
    "print(my_func())"
   ]
  },
  {
   "cell_type": "code",
   "execution_count": 14,
   "id": "0ca61d49",
   "metadata": {},
   "outputs": [
    {
     "name": "stdout",
     "output_type": "stream",
     "text": [
      "kok\n"
     ]
    }
   ],
   "source": [
    "  print(\"kok\")"
   ]
  },
  {
   "cell_type": "markdown",
   "id": "5bc24af1",
   "metadata": {},
   "source": [
    "## Project 14: Maze Runnner "
   ]
  },
  {
   "cell_type": "code",
   "execution_count": 1,
   "id": "9c82f83d",
   "metadata": {},
   "outputs": [],
   "source": [
    "## maze in reeborgs world\n",
    "def right():\n",
    "    turn_left()\n",
    "    turn_left()\n",
    "    turn_left()\n",
    "while not at_goal():\n",
    "    if(right_is_clear()):\n",
    "        right()\n",
    "        move()\n",
    "    elif(front_is_clear()):\n",
    "        move()\n",
    "    else:\n",
    "        turn_left()\n",
    "        "
   ]
  },
  {
   "cell_type": "code",
   "execution_count": null,
   "id": "dc65449d",
   "metadata": {},
   "outputs": [],
   "source": [
    "\n"
   ]
  }
 ],
 "metadata": {
  "kernelspec": {
   "display_name": "Python 3 (ipykernel)",
   "language": "python",
   "name": "python3"
  },
  "language_info": {
   "codemirror_mode": {
    "name": "ipython",
    "version": 3
   },
   "file_extension": ".py",
   "mimetype": "text/x-python",
   "name": "python",
   "nbconvert_exporter": "python",
   "pygments_lexer": "ipython3",
   "version": "3.9.7"
  }
 },
 "nbformat": 4,
 "nbformat_minor": 5
}
