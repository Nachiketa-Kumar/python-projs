{
 "cells": [
  {
   "cell_type": "code",
   "execution_count": 1,
   "id": "2825d0d1",
   "metadata": {},
   "outputs": [],
   "source": [
    "# Randomization and List"
   ]
  },
  {
   "cell_type": "code",
   "execution_count": 14,
   "id": "dc205e25",
   "metadata": {},
   "outputs": [
    {
     "name": "stdout",
     "output_type": "stream",
     "text": [
      "83\n"
     ]
    }
   ],
   "source": [
    "import random\n",
    "random_integer=random.randint(1,100)\n",
    "print(random_integer)"
   ]
  },
  {
   "cell_type": "code",
   "execution_count": 12,
   "id": "a11dfd95",
   "metadata": {},
   "outputs": [
    {
     "name": "stdout",
     "output_type": "stream",
     "text": [
      "0.6461242484136039\n"
     ]
    }
   ],
   "source": [
    "random_int=random.random() # will give no between 0 & 1.\n",
    "print(random_int)"
   ]
  },
  {
   "cell_type": "markdown",
   "id": "77820013",
   "metadata": {},
   "source": [
    "## Project 9: toss a coin "
   ]
  },
  {
   "cell_type": "code",
   "execution_count": 21,
   "id": "fc8b5d0a",
   "metadata": {},
   "outputs": [
    {
     "name": "stdout",
     "output_type": "stream",
     "text": [
      "Choose Heads or Tails? Tails\n",
      "you lost the toss!\n"
     ]
    }
   ],
   "source": [
    "import random\n",
    "r_side=random.randint(0, 1)\n",
    "n=input(\"Choose Heads or Tails? \")\n",
    "if(n==\"Heads\" and r_side==0):\n",
    "    print(\"its heads\")\n",
    "elif(n==\"Tails\" and r_side==1):\n",
    "    print(\"Its tails!\")\n",
    "else:\n",
    "    print(\"you lost the toss!\")\n",
    "    "
   ]
  },
  {
   "cell_type": "code",
   "execution_count": 30,
   "id": "ae32946a",
   "metadata": {},
   "outputs": [
    {
     "name": "stdout",
     "output_type": "stream",
     "text": [
      "335 kmfek  kmemt4  5m5m35m3m5 kmm5 m5km4\n",
      "['335', 'kmfek', '', 'kmemt4', '', '5m5m35m3m5', 'kmm5', 'm5km4']\n"
     ]
    }
   ],
   "source": [
    "#lists\n",
    "l=list(map(str,input().split(\" \")))\n",
    "l1=[]\n",
    "for i in l:\n",
    "    l1.append(i)\n",
    "print(l1)\n",
    "    "
   ]
  },
  {
   "cell_type": "code",
   "execution_count": 33,
   "id": "9d9d1514",
   "metadata": {},
   "outputs": [
    {
     "name": "stdout",
     "output_type": "stream",
     "text": [
      "Delaware, Maryland, Ohio, Texas, New York, Connecticut, California, Idaho, Michigan, Florida\n"
     ]
    }
   ],
   "source": [
    "list_of_states=list(map(str,input().split(',')))"
   ]
  },
  {
   "cell_type": "code",
   "execution_count": 34,
   "id": "cc1e7613",
   "metadata": {},
   "outputs": [
    {
     "name": "stdout",
     "output_type": "stream",
     "text": [
      " California\n"
     ]
    }
   ],
   "source": [
    "print(list_of_states[6])"
   ]
  },
  {
   "cell_type": "code",
   "execution_count": 44,
   "id": "345c983e",
   "metadata": {},
   "outputs": [
    {
     "name": "stdout",
     "output_type": "stream",
     "text": [
      "['Delaware', ' Maryland', ' Ohio', ' Texas', ' New York', ' Connecticut', ' California', ' Idaho', ' Michigan', ' Florida', 'Hawaii', 'Rhode Island', 'Pennsylvania', 'Hawaii', 'Rhode Island', 'Pennsylvania', 'Hawaii', 'Rhode Island', 'Pennsylvania', 'Hawaii', 'Rhode Island', 'Pennsylvania', 'Hawaii', 'Rhode Island', 'Pennsylvania', 'Hawaii', 'Rhode Island', 'Pennsylvania', 'Hawaii', 'Rhode Island', 'Pennsylvania', 'Hawaii', 'Rhode Island', 'Pennsylvania', 'Hawaii', 'Rhode Island', 'Pennsylvania', 'Hawaii', 'Rhode Island', 'Pennsylvania']\n"
     ]
    },
    {
     "data": {
      "text/plain": [
       "0"
      ]
     },
     "execution_count": 44,
     "metadata": {},
     "output_type": "execute_result"
    }
   ],
   "source": [
    "list_of_states.extend([\"Hawaii\", \"Rhode Island\", \"Pennsylvania\"])\n",
    "print(list_of_states)\n"
   ]
  },
  {
   "cell_type": "code",
   "execution_count": 49,
   "id": "80ddd0d8",
   "metadata": {},
   "outputs": [
    {
     "ename": "AttributeError",
     "evalue": "'list' object has no attribute 'delete'",
     "output_type": "error",
     "traceback": [
      "\u001b[1;31m---------------------------------------------------------------------------\u001b[0m",
      "\u001b[1;31mAttributeError\u001b[0m                            Traceback (most recent call last)",
      "\u001b[1;32m~\\AppData\\Local\\Temp/ipykernel_12432/2810297385.py\u001b[0m in \u001b[0;36m<module>\u001b[1;34m\u001b[0m\n\u001b[1;32m----> 1\u001b[1;33m \u001b[0mlist_of_states\u001b[0m\u001b[1;33m.\u001b[0m\u001b[0mdelete\u001b[0m\u001b[1;33m(\u001b[0m\u001b[1;34m\", 'Hawaii', 'Rhode Island', 'Pennsylvania', 'Hawaii', 'Rhode Island', 'Pennsylvania', 'Hawaii', 'Rhode Island', 'Pennsylvania', 'Hawaii', 'Rhode Island', 'Pennsylvania', 'Hawaii', 'Rhode Island', 'Pennsylvania', 'Hawaii', 'Rhode Island', 'Pennsylvania', 'Hawaii', 'Rhode Island', 'Pennsylvania', 'Hawaii', 'Rhode Island', 'Pennsylvania', 'Hawaii', 'Rhode Island', 'Pennsylvania'\"\u001b[0m\u001b[1;33m)\u001b[0m\u001b[1;33m\u001b[0m\u001b[1;33m\u001b[0m\u001b[0m\n\u001b[0m",
      "\u001b[1;31mAttributeError\u001b[0m: 'list' object has no attribute 'delete'"
     ]
    }
   ],
   "source": [
    "list_of_states.delete(\", 'Hawaii', 'Rhode Island', 'Pennsylvania', 'Hawaii', 'Rhode Island', 'Pennsylvania', 'Hawaii', 'Rhode Island', 'Pennsylvania', 'Hawaii', 'Rhode Island', 'Pennsylvania', 'Hawaii', 'Rhode Island', 'Pennsylvania', 'Hawaii', 'Rhode Island', 'Pennsylvania', 'Hawaii', 'Rhode Island', 'Pennsylvania', 'Hawaii', 'Rhode Island', 'Pennsylvania', 'Hawaii', 'Rhode Island', 'Pennsylvania'\")"
   ]
  },
  {
   "cell_type": "markdown",
   "id": "fe587dde",
   "metadata": {},
   "source": [
    "###### More on Lists\n",
    "The list data type has some more methods. Here are all of the methods of list objects:\n",
    "\n",
    "list.append(x)\n",
    "Add an item to the end of the list. Equivalent to a[len(a):] = [x].\n",
    "\n",
    "list.extend(iterable)\n",
    "Extend the list by appending all the items from the iterable. Equivalent to a[len(a):] = iterable.\n",
    "\n",
    "list.insert(i, x)\n",
    "Insert an item at a given position. The first argument is the index of the element before which to insert, so a.insert(0, x) inserts at the front of the list, and a.insert(len(a), x) is equivalent to a.append(x).\n",
    "\n",
    "list.remove(x)\n",
    "Remove the first item from the list whose value is equal to x. It raises a ValueError if there is no such item.\n",
    "\n",
    "list.pop([i])\n",
    "Remove the item at the given position in the list, and return it. If no index is specified, a.pop() removes and returns the last item in the list. (The square brackets around the i in the method signature denote that the parameter is optional, not that you should type square brackets at that position. You will see this notation frequently in the Python Library Reference.)\n",
    "\n",
    "list.clear()\n",
    "Remove all items from the list. Equivalent to del a[:].\n",
    "\n",
    "list.index(x[, start[, end]])\n",
    "Return zero-based index in the list of the first item whose value is equal to x. Raises a ValueError if there is no such item.\n",
    "\n",
    "The optional arguments start and end are interpreted as in the slice notation and are used to limit the search to a particular subsequence of the list. The returned index is computed relative to the beginning of the full sequence rather than the start argument.\n",
    "\n",
    "list.count(x)\n",
    "Return the number of times x appears in the list.\n",
    "\n",
    "list.sort(*, key=None, reverse=False)\n",
    "Sort the items of the list in place (the arguments can be used for sort customization, see sorted() for their explanation).\n",
    "\n",
    "list.reverse()\n",
    "Reverse the elements of the list in place.\n",
    "\n",
    "list.copy()\n",
    "Return a shallow copy of the list. Equivalent to a[:].\n",
    "\n",
    "An example that uses most of the list methods:\n",
    "\n",
    ">>>\n",
    ">>> fruits = ['orange', 'apple', 'pear', 'banana', 'kiwi', 'apple', 'banana']\n",
    ">>> fruits.count('apple')\n",
    "2\n",
    ">>> fruits.count('tangerine')\n",
    "0\n",
    ">>> fruits.index('banana')\n",
    "3\n",
    ">>> fruits.index('banana', 4)  # Find next banana starting a position 4\n",
    "6\n",
    ">>> fruits.reverse()\n",
    ">>> fruits\n",
    "['banana', 'apple', 'kiwi', 'banana', 'pear', 'apple', 'orange']\n",
    ">>> fruits.append('grape')\n",
    ">>> fruits\n",
    "['banana', 'apple', 'kiwi', 'banana', 'pear', 'apple', 'orange', 'grape']\n",
    ">>> fruits.sort()\n",
    ">>> fruits\n",
    "['apple', 'apple', 'banana', 'banana', 'grape', 'kiwi', 'orange', 'pear']\n",
    ">>> fruits.pop()\n",
    "'pear'\n",
    "You might have noticed that methods like insert, remove or sort that only modify the list have no return value printed – they return the default None. 1 This is a design principle for all mutable data structures in Python.\n",
    "\n",
    "Another thing you might notice is that not all data can be sorted or compared. For instance, [None, 'hello', 10] doesn’t sort because integers can’t be compared to strings and None can’t be compared to other types. Also, there are some types that don’t have a defined ordering relation. For example, 3+4j < 5+7j isn’t a valid comparison.\n",
    "\n",
    "5.1.1. Using Lists as Stacks\n",
    "The list methods make it very easy to use a list as a stack, where the last element added is the first element retrieved (“last-in, first-out”). To add an item to the top of the stack, use append(). To retrieve an item from the top of the stack, use pop() without an explicit index. For example:\n",
    "\n",
    ">>>\n",
    ">>> stack = [3, 4, 5]\n",
    ">>> stack.append(6)\n",
    ">>> stack.append(7)\n",
    ">>> stack\n",
    "[3, 4, 5, 6, 7]\n",
    ">>> stack.pop()\n",
    "7\n",
    ">>> stack\n",
    "[3, 4, 5, 6]\n",
    ">>> stack.pop()\n",
    "6\n",
    ">>> stack.pop()\n",
    "5\n",
    ">>> stack\n",
    "[3, 4]\n",
    "5.1.2. Using Lists as Queues\n",
    "It is also possible to use a list as a queue, where the first element added is the first element retrieved (“first-in, first-out”); however, lists are not efficient for this purpose. While appends and pops from the end of list are fast, doing inserts or pops from the beginning of a list is slow (because all of the other elements have to be shifted by one).\n",
    "\n",
    "To implement a queue, use collections.deque which was designed to have fast appends and pops from both ends. For example:\n",
    "\n",
    ">>>\n",
    ">>> from collections import deque\n",
    ">>> queue = deque([\"Eric\", \"John\", \"Michael\"])\n",
    ">>> queue.append(\"Terry\")           # Terry arrives\n",
    ">>> queue.append(\"Graham\")          # Graham arrives\n",
    ">>> queue.popleft()                 # The first to arrive now leaves\n",
    "'Eric'\n",
    ">>> queue.popleft()                 # The second to arrive now leaves\n",
    "'John'\n",
    ">>> queue                           # Remaining queue in order of arrival\n",
    "deque(['Michael', 'Terry', 'Graham'])\n",
    "5.1.3. List Comprehensions\n",
    "List comprehensions provide a concise way to create lists. Common applications are to make new lists where each element is the result of some operations applied to each member of another sequence or iterable, or to create a subsequence of those elements that satisfy a certain condition.\n",
    "\n",
    "For example, assume we want to create a list of squares, like:\n",
    "\n",
    ">>>\n",
    ">>> squares = []\n",
    ">>> for x in range(10):\n",
    "...     squares.append(x**2)\n",
    "...\n",
    ">>> squares\n",
    "[0, 1, 4, 9, 16, 25, 36, 49, 64, 81]\n",
    "Note that this creates (or overwrites) a variable named x that still exists after the loop completes. We can calculate the list of squares without any side effects using:\n",
    "\n",
    "squares = list(map(lambda x: x**2, range(10)))\n",
    "or, equivalently:\n",
    "\n",
    "squares = [x**2 for x in range(10)]\n",
    "which is more concise and readable.\n",
    "\n",
    "A list comprehension consists of brackets containing an expression followed by a for clause, then zero or more for or if clauses. The result will be a new list resulting from evaluating the expression in the context of the for and if clauses which follow it. For example, this listcomp combines the elements of two lists if they are not equal:\n",
    "\n",
    ">>>\n",
    ">>> [(x, y) for x in [1,2,3] for y in [3,1,4] if x != y]\n",
    "[(1, 3), (1, 4), (2, 3), (2, 1), (2, 4), (3, 1), (3, 4)]\n",
    "and it’s equivalent to:\n",
    "\n",
    ">>>\n",
    ">>> combs = []\n",
    ">>> for x in [1,2,3]:\n",
    "...     for y in [3,1,4]:\n",
    "...         if x != y:\n",
    "...             combs.append((x, y))\n",
    "...\n",
    ">>> combs\n",
    "[(1, 3), (1, 4), (2, 3), (2, 1), (2, 4), (3, 1), (3, 4)]\n",
    "Note how the order of the for and if statements is the same in both these snippets.\n",
    "\n",
    "If the expression is a tuple (e.g. the (x, y) in the previous example), it must be parenthesized.\n",
    "\n",
    ">>>\n",
    ">>> vec = [-4, -2, 0, 2, 4]\n",
    ">>> # create a new list with the values doubled\n",
    ">>> [x*2 for x in vec]\n",
    "[-8, -4, 0, 4, 8]\n",
    ">>> # filter the list to exclude negative numbers\n",
    ">>> [x for x in vec if x >= 0]\n",
    "[0, 2, 4]\n",
    ">>> # apply a function to all the elements\n",
    ">>> [abs(x) for x in vec]\n",
    "[4, 2, 0, 2, 4]\n",
    ">>> # call a method on each element\n",
    ">>> freshfruit = ['  banana', '  loganberry ', 'passion fruit  ']\n",
    ">>> [weapon.strip() for weapon in freshfruit]\n",
    "['banana', 'loganberry', 'passion fruit']\n",
    ">>> # create a list of 2-tuples like (number, square)\n",
    ">>> [(x, x**2) for x in range(6)]\n",
    "[(0, 0), (1, 1), (2, 4), (3, 9), (4, 16), (5, 25)]\n",
    ">>> # the tuple must be parenthesized, otherwise an error is raised\n",
    ">>> [x, x**2 for x in range(6)]\n",
    "  File \"<stdin>\", line 1, in <module>\n",
    "    [x, x**2 for x in range(6)]\n",
    "               ^\n",
    "SyntaxError: invalid syntax\n",
    ">>> # flatten a list using a listcomp with two 'for'\n",
    ">>> vec = [[1,2,3], [4,5,6], [7,8,9]]\n",
    ">>> [num for elem in vec for num in elem]\n",
    "[1, 2, 3, 4, 5, 6, 7, 8, 9]\n",
    "List comprehensions can contain complex expressions and nested functions:\n",
    "\n",
    ">>>\n",
    ">>> from math import pi\n",
    ">>> [str(round(pi, i)) for i in range(1, 6)]\n",
    "['3.1', '3.14', '3.142', '3.1416', '3.14159']\n",
    "5.1.4. Nested List Comprehensions\n",
    "The initial expression in a list comprehension can be any arbitrary expression, including another list comprehension.\n",
    "\n",
    "Consider the following example of a 3x4 matrix implemented as a list of 3 lists of length 4:\n",
    "\n",
    ">>>\n",
    ">>> matrix = [\n",
    "...     [1, 2, 3, 4],\n",
    "...     [5, 6, 7, 8],\n",
    "...     [9, 10, 11, 12],\n",
    "... ]\n",
    "The following list comprehension will transpose rows and columns:\n",
    "\n",
    ">>>\n",
    ">>> [[row[i] for row in matrix] for i in range(4)]\n",
    "[[1, 5, 9], [2, 6, 10], [3, 7, 11], [4, 8, 12]]\n",
    "As we saw in the previous section, the nested listcomp is evaluated in the context of the for that follows it, so this example is equivalent to:\n",
    "\n",
    ">>>\n",
    ">>> transposed = []\n",
    ">>> for i in range(4):\n",
    "...     transposed.append([row[i] for row in matrix])\n",
    "...\n",
    ">>> transposed\n",
    "[[1, 5, 9], [2, 6, 10], [3, 7, 11], [4, 8, 12]]\n",
    "which, in turn, is the same as:\n",
    "\n",
    ">>>\n",
    ">>> transposed = []\n",
    ">>> for i in range(4):\n",
    "...     # the following 3 lines implement the nested listcomp\n",
    "...     transposed_row = []\n",
    "...     for row in matrix:\n",
    "...         transposed_row.append(row[i])\n",
    "...     transposed.append(transposed_row)\n",
    "...\n",
    ">>> transposed\n",
    "[[1, 5, 9], [2, 6, 10], [3, 7, 11], [4, 8, 12]]\n",
    "In the real world, you should prefer built-in functions to complex flow statements. The zip() function would do a great job for this use case:\n",
    "\n",
    ">>>\n",
    ">>> list(zip(*matrix))\n",
    "[(1, 5, 9), (2, 6, 10), (3, 7, 11), (4, 8, 12)]\n",
    "See Unpacking Argument Lists for details on the asterisk in this line.\n",
    "\n",
    "5.2. The del statement\n",
    "There is a way to remove an item from a list given its index instead of its value: the del statement. This differs from the pop() method which returns a value. The del statement can also be used to remove slices from a list or clear the entire list (which we did earlier by assignment of an empty list to the slice). For example:\n",
    "\n",
    ">>>\n",
    ">>> a = [-1, 1, 66.25, 333, 333, 1234.5]\n",
    ">>> del a[0]\n",
    ">>> a\n",
    "[1, 66.25, 333, 333, 1234.5]\n",
    ">>> del a[2:4]\n",
    ">>> a\n",
    "[1, 66.25, 1234.5]\n",
    ">>> del a[:]\n",
    ">>> a\n",
    "[]\n",
    "del can also be used to delete entire variables:\n",
    "\n",
    ">>>\n",
    ">>> del a\n",
    "Referencing the name a hereafter is an error (at least until another value is assigned to it). We’ll find other uses for del later.\n",
    "\n",
    "5.3. Tuples and Sequences\n",
    "We saw that lists and strings have many common properties, such as indexing and slicing operations. They are two examples of sequence data types (see Sequence Types — list, tuple, range). Since Python is an evolving language, other sequence data types may be added. There is also another standard sequence data type: the tuple.\n",
    "\n",
    "A tuple consists of a number of values separated by commas, for instance:\n",
    "\n",
    ">>>\n",
    ">>> t = 12345, 54321, 'hello!'\n",
    ">>> t[0]\n",
    "12345\n",
    ">>> t\n",
    "(12345, 54321, 'hello!')\n",
    ">>> # Tuples may be nested:\n",
    "... u = t, (1, 2, 3, 4, 5)\n",
    ">>> u\n",
    "((12345, 54321, 'hello!'), (1, 2, 3, 4, 5))\n",
    ">>> # Tuples are immutable:\n",
    "... t[0] = 88888\n",
    "Traceback (most recent call last):\n",
    "  File \"<stdin>\", line 1, in <module>\n",
    "TypeError: 'tuple' object does not support item assignment\n",
    ">>> # but they can contain mutable objects:\n",
    "... v = ([1, 2, 3], [3, 2, 1])\n",
    ">>> v\n",
    "([1, 2, 3], [3, 2, 1])\n",
    "As you see, on output tuples are always enclosed in parentheses, so that nested tuples are interpreted correctly; they may be input with or without surrounding parentheses, although often parentheses are necessary anyway (if the tuple is part of a larger expression). It is not possible to assign to the individual items of a tuple, however it is possible to create tuples which contain mutable objects, such as lists.\n",
    "\n",
    "Though tuples may seem similar to lists, they are often used in different situations and for different purposes. Tuples are immutable, and usually contain a heterogeneous sequence of elements that are accessed via unpacking (see later in this section) or indexing (or even by attribute in the case of namedtuples). Lists are mutable, and their elements are usually homogeneous and are accessed by iterating over the list.\n",
    "\n",
    "A special problem is the construction of tuples containing 0 or 1 items: the syntax has some extra quirks to accommodate these. Empty tuples are constructed by an empty pair of parentheses; a tuple with one item is constructed by following a value with a comma (it is not sufficient to enclose a single value in parentheses). Ugly, but effective. For example:\n",
    "\n",
    ">>>\n",
    ">>> empty = ()\n",
    ">>> singleton = 'hello',    # <-- note trailing comma\n",
    ">>> len(empty)\n",
    "0\n",
    ">>> len(singleton)\n",
    "1\n",
    ">>> singleton\n",
    "('hello',)\n",
    "The statement t = 12345, 54321, 'hello!' is an example of tuple packing: the values 12345, 54321 and 'hello!' are packed together in a tuple. The reverse operation is also possible:\n",
    "\n",
    ">>>\n",
    ">>> x, y, z = t\n",
    "This is called, appropriately enough, sequence unpacking and works for any sequence on the right-hand side. Sequence unpacking requires that there are as many variables on the left side of the equals sign as there are elements in the sequence. Note that multiple assignment is really just a combination of tuple packing and sequence unpacking.\n",
    "\n",
    "5.4. Sets\n",
    "Python also includes a data type for sets. A set is an unordered collection with no duplicate elements. Basic uses include membership testing and eliminating duplicate entries. Set objects also support mathematical operations like union, intersection, difference, and symmetric difference.\n",
    "\n",
    "Curly braces or the set() function can be used to create sets. Note: to create an empty set you have to use set(), not {}; the latter creates an empty dictionary, a data structure that we discuss in the next section.\n",
    "\n",
    "Here is a brief demonstration:\n",
    "\n",
    ">>>\n",
    ">>> basket = {'apple', 'orange', 'apple', 'pear', 'orange', 'banana'}\n",
    ">>> print(basket)                      # show that duplicates have been removed\n",
    "{'orange', 'banana', 'pear', 'apple'}\n",
    ">>> 'orange' in basket                 # fast membership testing\n",
    "True\n",
    ">>> 'crabgrass' in basket\n",
    "False\n",
    "\n",
    ">>> # Demonstrate set operations on unique letters from two words\n",
    "...\n",
    ">>> a = set('abracadabra')\n",
    ">>> b = set('alacazam')\n",
    ">>> a                                  # unique letters in a\n",
    "{'a', 'r', 'b', 'c', 'd'}\n",
    ">>> a - b                              # letters in a but not in b\n",
    "{'r', 'd', 'b'}\n",
    ">>> a | b                              # letters in a or b or both\n",
    "{'a', 'c', 'r', 'd', 'b', 'm', 'z', 'l'}\n",
    ">>> a & b                              # letters in both a and b\n",
    "{'a', 'c'}\n",
    ">>> a ^ b                              # letters in a or b but not both\n",
    "{'r', 'd', 'b', 'm', 'z', 'l'}\n",
    "Similarly to list comprehensions, set comprehensions are also supported:\n",
    "\n",
    ">>>\n",
    ">>> a = {x for x in 'abracadabra' if x not in 'abc'}\n",
    ">>> a\n",
    "{'r', 'd'}\n",
    "5.5. Dictionaries\n",
    "Another useful data type built into Python is the dictionary (see Mapping Types — dict). Dictionaries are sometimes found in other languages as “associative memories” or “associative arrays”. Unlike sequences, which are indexed by a range of numbers, dictionaries are indexed by keys, which can be any immutable type; strings and numbers can always be keys. Tuples can be used as keys if they contain only strings, numbers, or tuples; if a tuple contains any mutable object either directly or indirectly, it cannot be used as a key. You can’t use lists as keys, since lists can be modified in place using index assignments, slice assignments, or methods like append() and extend().\n",
    "\n",
    "It is best to think of a dictionary as a set of key: value pairs, with the requirement that the keys are unique (within one dictionary). A pair of braces creates an empty dictionary: {}. Placing a comma-separated list of key:value pairs within the braces adds initial key:value pairs to the dictionary; this is also the way dictionaries are written on output.\n",
    "\n",
    "The main operations on a dictionary are storing a value with some key and extracting the value given the key. It is also possible to delete a key:value pair with del. If you store using a key that is already in use, the old value associated with that key is forgotten. It is an error to extract a value using a non-existent key.\n",
    "\n",
    "Performing list(d) on a dictionary returns a list of all the keys used in the dictionary, in insertion order (if you want it sorted, just use sorted(d) instead). To check whether a single key is in the dictionary, use the in keyword.\n",
    "\n",
    "Here is a small example using a dictionary:\n",
    "\n",
    ">>>\n",
    ">>> tel = {'jack': 4098, 'sape': 4139}\n",
    ">>> tel['guido'] = 4127\n",
    ">>> tel\n",
    "{'jack': 4098, 'sape': 4139, 'guido': 4127}\n",
    ">>> tel['jack']\n",
    "4098\n",
    ">>> del tel['sape']\n",
    ">>> tel['irv'] = 4127\n",
    ">>> tel\n",
    "{'jack': 4098, 'guido': 4127, 'irv': 4127}\n",
    ">>> list(tel)\n",
    "['jack', 'guido', 'irv']\n",
    ">>> sorted(tel)\n",
    "['guido', 'irv', 'jack']\n",
    ">>> 'guido' in tel\n",
    "True\n",
    ">>> 'jack' not in tel\n",
    "False\n",
    "The dict() constructor builds dictionaries directly from sequences of key-value pairs:\n",
    "\n",
    ">>>\n",
    ">>> dict([('sape', 4139), ('guido', 4127), ('jack', 4098)])\n",
    "{'sape': 4139, 'guido': 4127, 'jack': 4098}\n",
    "In addition, dict comprehensions can be used to create dictionaries from arbitrary key and value expressions:\n",
    "\n",
    ">>>\n",
    ">>> {x: x**2 for x in (2, 4, 6)}\n",
    "{2: 4, 4: 16, 6: 36}\n",
    "When the keys are simple strings, it is sometimes easier to specify pairs using keyword arguments:\n",
    "\n",
    ">>>\n",
    ">>> dict(sape=4139, guido=4127, jack=4098)\n",
    "{'sape': 4139, 'guido': 4127, 'jack': 4098}\n",
    "5.6. Looping Techniques\n",
    "When looping through dictionaries, the key and corresponding value can be retrieved at the same time using the items() method.\n",
    "\n",
    ">>>\n",
    ">>> knights = {'gallahad': 'the pure', 'robin': 'the brave'}\n",
    ">>> for k, v in knights.items():\n",
    "...     print(k, v)\n",
    "...\n",
    "gallahad the pure\n",
    "robin the brave\n",
    "When looping through a sequence, the position index and corresponding value can be retrieved at the same time using the enumerate() function.\n",
    "\n",
    ">>>\n",
    ">>> for i, v in enumerate(['tic', 'tac', 'toe']):\n",
    "...     print(i, v)\n",
    "...\n",
    "0 tic\n",
    "1 tac\n",
    "2 toe\n",
    "To loop over two or more sequences at the same time, the entries can be paired with the zip() function.\n",
    "\n",
    ">>>\n",
    ">>> questions = ['name', 'quest', 'favorite color']\n",
    ">>> answers = ['lancelot', 'the holy grail', 'blue']\n",
    ">>> for q, a in zip(questions, answers):\n",
    "...     print('What is your {0}?  It is {1}.'.format(q, a))\n",
    "...\n",
    "What is your name?  It is lancelot.\n",
    "What is your quest?  It is the holy grail.\n",
    "What is your favorite color?  It is blue.\n",
    "To loop over a sequence in reverse, first specify the sequence in a forward direction and then call the reversed() function.\n",
    "\n",
    ">>>\n",
    ">>> for i in reversed(range(1, 10, 2)):\n",
    "...     print(i)\n",
    "...\n",
    "9\n",
    "7\n",
    "5\n",
    "3\n",
    "1\n",
    "To loop over a sequence in sorted order, use the sorted() function which returns a new sorted list while leaving the source unaltered.\n",
    "\n",
    ">>>\n",
    ">>> basket = ['apple', 'orange', 'apple', 'pear', 'orange', 'banana']\n",
    ">>> for i in sorted(basket):\n",
    "...     print(i)\n",
    "...\n",
    "apple\n",
    "apple\n",
    "banana\n",
    "orange\n",
    "orange\n",
    "pear\n",
    "Using set() on a sequence eliminates duplicate elements. The use of sorted() in combination with set() over a sequence is an idiomatic way to loop over unique elements of the sequence in sorted order.\n",
    "\n",
    ">>>\n",
    ">>> basket = ['apple', 'orange', 'apple', 'pear', 'orange', 'banana']\n",
    ">>> for f in sorted(set(basket)):\n",
    "...     print(f)\n",
    "...\n",
    "apple\n",
    "banana\n",
    "orange\n",
    "pear\n",
    "It is sometimes tempting to change a list while you are looping over it; however, it is often simpler and safer to create a new list instead.\n",
    "\n",
    ">>>\n",
    ">>> import math\n",
    ">>> raw_data = [56.2, float('NaN'), 51.7, 55.3, 52.5, float('NaN'), 47.8]\n",
    ">>> filtered_data = []\n",
    ">>> for value in raw_data:\n",
    "...     if not math.isnan(value):\n",
    "...         filtered_data.append(value)\n",
    "...\n",
    ">>> filtered_data\n",
    "[56.2, 51.7, 55.3, 52.5, 47.8]\n",
    "5.7. More on Conditions\n",
    "The conditions used in while and if statements can contain any operators, not just comparisons.\n",
    "\n",
    "The comparison operators in and not in are membership tests that determine whether a value is in (or not in) a container. The operators is and is not compare whether two objects are really the same object. All comparison operators have the same priority, which is lower than that of all numerical operators.\n",
    "\n",
    "Comparisons can be chained. For example, a < b == c tests whether a is less than b and moreover b equals c.\n",
    "\n",
    "Comparisons may be combined using the Boolean operators and and or, and the outcome of a comparison (or of any other Boolean expression) may be negated with not. These have lower priorities than comparison operators; between them, not has the highest priority and or the lowest, so that A and not B or C is equivalent to (A and (not B)) or C. As always, parentheses can be used to express the desired composition.\n",
    "\n",
    "The Boolean operators and and or are so-called short-circuit operators: their arguments are evaluated from left to right, and evaluation stops as soon as the outcome is determined. For example, if A and C are true but B is false, A and B and C does not evaluate the expression C. When used as a general value and not as a Boolean, the return value of a short-circuit operator is the last evaluated argument.\n",
    "\n",
    "It is possible to assign the result of a comparison or other Boolean expression to a variable. For example,\n",
    "\n",
    ">>>\n",
    ">>> string1, string2, string3 = '', 'Trondheim', 'Hammer Dance'\n",
    ">>> non_null = string1 or string2 or string3\n",
    ">>> non_null\n",
    "'Trondheim'\n",
    "Note that in Python, unlike C, assignment inside expressions must be done explicitly with the walrus operator :=. This avoids a common class of problems encountered in C programs: typing = in an expression when == was intended.\n",
    "\n",
    "5.8. Comparing Sequences and Other Types\n",
    "Sequence objects typically may be compared to other objects with the same sequence type. The comparison uses lexicographical ordering: first the first two items are compared, and if they differ this determines the outcome of the comparison; if they are equal, the next two items are compared, and so on, until either sequence is exhausted. If two items to be compared are themselves sequences of the same type, the lexicographical comparison is carried out recursively. If all items of two sequences compare equal, the sequences are considered equal. If one sequence is an initial sub-sequence of the other, the shorter sequence is the smaller (lesser) one. Lexicographical ordering for strings uses the Unicode code point number to order individual characters. Some examples of comparisons between sequences of the same type:\n",
    "\n",
    "(1, 2, 3)              < (1, 2, 4)\n",
    "[1, 2, 3]              < [1, 2, 4]\n",
    "'ABC' < 'C' < 'Pascal' < 'Python'\n",
    "(1, 2, 3, 4)           < (1, 2, 4)\n",
    "(1, 2)                 < (1, 2, -1)\n",
    "(1, 2, 3)             == (1.0, 2.0, 3.0)\n",
    "(1, 2, ('aa', 'ab'))   < (1, 2, ('abc', 'a'), 4)\n",
    "Note that comparing objects of different types with < or > is legal provided that the objects have appropriate comparison methods. For example, mixed numeric types are compared according to their numeric value, so 0 equals 0.0, etc. Otherwise, rather than providing an arbitrary ordering, the interpreter will raise a TypeError exception.\n",
    "\n",
    "Footnotes\n",
    "\n",
    "1\n",
    "Other languages may return the mutated object, which allows method chaining, such as d->insert(\"a\")->remove(\"b\")->sort();."
   ]
  },
  {
   "cell_type": "markdown",
   "id": "2c153048",
   "metadata": {},
   "source": [
    "## Project 10: Bankers Roulette"
   ]
  },
  {
   "cell_type": "code",
   "execution_count": 68,
   "id": "157b9395",
   "metadata": {},
   "outputs": [
    {
     "name": "stdout",
     "output_type": "stream",
     "text": [
      "Enter the names please:  Angela, Chloe, Jenniffer, Lisa, Shawn, Abhi\n",
      " Abhi\n"
     ]
    }
   ],
   "source": [
    "import random\n",
    "l=list(map(str,input(\"Enter the names please: \").split(',')))\n",
    "print(l[random.randint(0,len(l)-1)])\n",
    "\n"
   ]
  },
  {
   "cell_type": "code",
   "execution_count": 72,
   "id": "c754758e",
   "metadata": {},
   "outputs": [
    {
     "name": "stdout",
     "output_type": "stream",
     "text": [
      "Enter the names please: Angela, Chloe, Jenniffer, Lisa, Shawn, Abhi\n",
      "3\n",
      " Abhi\n",
      " Jenniffer\n",
      " Lisa\n"
     ]
    }
   ],
   "source": [
    "import random\n",
    "l=list(map(str,input(\"Enter the names please: \").split(',')))\n",
    "for i in range(int(input())):\n",
    "    print(random.choice(l))"
   ]
  },
  {
   "cell_type": "code",
   "execution_count": 74,
   "id": "0d297688",
   "metadata": {},
   "outputs": [
    {
     "name": "stdout",
     "output_type": "stream",
     "text": [
      "Enter the names of fruits please: kiwi, strawberry, mango, mellon, banana\n",
      "Enter the name of vegetables ordered: spinach, tomato, peas, mushroom, potatoes\n",
      "[[['k', 'i', 'w', 'i', ',', ' ', 's', 't', 'r', 'a', 'w', 'b', 'e', 'r', 'r', 'y', ',', ' ', 'm', 'a', 'n', 'g', 'o', ',', ' ', 'm', 'e', 'l', 'l', 'o', 'n', ',', ' ', 'b', 'a', 'n', 'a', 'n', 'a']], [['s', 'p', 'i', 'n', 'a', 'c', 'h', ',', ' ', 't', 'o', 'm', 'a', 't', 'o', ',', ' ', 'p', 'e', 'a', 's', ',', ' ', 'm', 'u', 's', 'h', 'r', 'o', 'o', 'm', ',', ' ', 'p', 'o', 't', 'a', 't', 'o', 'e', 's']]]\n"
     ]
    }
   ],
   "source": [
    "#nestesd lists or matrix\n",
    "fruits=list(map(str,input('Enter the names of fruits please: ')))\n",
    "vegetables=list(map(str,input('Enter the name of vegetables ordered: ')))\n",
    "grocery=[fruits,vegetables]\n",
    "print(grocery)\n"
   ]
  },
  {
   "cell_type": "code",
   "execution_count": 76,
   "id": "30dc924a",
   "metadata": {},
   "outputs": [
    {
     "name": "stdout",
     "output_type": "stream",
     "text": [
      "[['kiwi', 'strawberry', 'mango', 'mellon', 'banana'], ['spinach', 'tomato', 'peas', 'mushroom', 'potatoes']]\n"
     ]
    }
   ],
   "source": [
    "fruits=['kiwi', 'strawberry', 'mango', 'mellon','banana']\n",
    "vegetables=['spinach', 'tomato', 'peas', 'mushroom', 'potatoes']\n",
    "grocery=[fruits,vegetables]\n",
    "print(grocery)\n"
   ]
  },
  {
   "cell_type": "markdown",
   "id": "ee1b984d",
   "metadata": {},
   "source": [
    "## Project 11: Treasure Map"
   ]
  },
  {
   "cell_type": "code",
   "execution_count": 80,
   "id": "15240c56",
   "metadata": {},
   "outputs": [
    {
     "name": "stdout",
     "output_type": "stream",
     "text": [
      "[' ', ' ', ' ']\n",
      "[' ', ' ', ' ']\n",
      "[' ', ' ', ' ']\n",
      "Where do u wanna put the treasure in the map? 23\n",
      "[' ', 'X', ' ']\n"
     ]
    }
   ],
   "source": [
    "r1= [' ', ' ', ' ']\n",
    "r2= [' ', ' ', ' ']\n",
    "r3= [' ', ' ', ' ']\n",
    "map=[r1,r2,r3]\n",
    "print(f\"{r1}\\n{r2}\\n{r3}\")\n",
    "position=input(\"Where do u wanna put the treasure in the map? \")\n",
    "pos1=int(position[0])\n",
    "pos2=int(position[1])\n",
    "map[pos2-1][pos1-1]='X'\n",
    "#selectedrow=map[pos2-1]\n",
    "#selectedrow[pos1-1]='X'\n",
    "print(map[3-1])"
   ]
  },
  {
   "cell_type": "markdown",
   "id": "e99e90a8",
   "metadata": {},
   "source": [
    "## Project 12: Final project of the day 4\n",
    "### ROCK, PAPER, SCISORS"
   ]
  },
  {
   "cell_type": "code",
   "execution_count": 85,
   "id": "76dbd205",
   "metadata": {},
   "outputs": [
    {
     "name": "stdout",
     "output_type": "stream",
     "text": [
      "Moshi Moshi, Player welcome to the association of Rock paper and scisors\n",
      "Dear player please choose rock paper or scisors: rock\n",
      "You won !\n"
     ]
    }
   ],
   "source": [
    "print(\"Moshi Moshi, Player welcome to the association of Rock paper and scisors\")\n",
    "import random\n",
    "player_choice=input(\"Dear player please choose rock paper or scisors: \")\n",
    "if(player_choice=='rock' or player_choice=='paper' or player_choice=='scisors'):\n",
    "    l=['rock','paper','scisors']\n",
    "    computer_choice=random.choice(l)\n",
    "    if(player_choice=='rock' and computer_choice=='rock'):\n",
    "        print(\"Its a tie !!!\")\n",
    "    elif(player_choice=='paper' and computer_choice=='paper'):\n",
    "        print(\"Its a tie !!!\")\n",
    "    elif(player_choice=='scisors' and computer_choice=='scisors'):\n",
    "        print(\"Its a tie !!!\")\n",
    "    elif(player_choice=='rock' and computer_choice=='paper'):\n",
    "        print(\"You loose !\")\n",
    "    elif(player_choice=='rock' and computer_choice=='scisors'):\n",
    "        print(\"You won !\")\n",
    "    elif(player_choice=='paper' and computer_choice=='rock'):\n",
    "        print(\"You won !\")\n",
    "    elif(player_choice=='paper' and computer_choice=='scisors'):\n",
    "        print(\"You loose !\")\n",
    "    elif(player_choice=='scisors' and computer_choice=='paper'):\n",
    "        print(\"You win !\")\n",
    "    elif(player_choice=='scisors' and computer_choice=='rock'):\n",
    "        print(\"You loose !\")\n",
    "    else:\n",
    "        pass\n",
    "else:\n",
    "    print(\"You input a wrong choice which is Invalid! restart the match please.\")\n",
    "\n"
   ]
  },
  {
   "cell_type": "markdown",
   "id": "f1da1e3a",
   "metadata": {},
   "source": [
    "## THANK YOU!!"
   ]
  },
  {
   "cell_type": "code",
   "execution_count": null,
   "id": "5bcfa694",
   "metadata": {},
   "outputs": [],
   "source": []
  }
 ],
 "metadata": {
  "kernelspec": {
   "display_name": "Python 3 (ipykernel)",
   "language": "python",
   "name": "python3"
  },
  "language_info": {
   "codemirror_mode": {
    "name": "ipython",
    "version": 3
   },
   "file_extension": ".py",
   "mimetype": "text/x-python",
   "name": "python",
   "nbconvert_exporter": "python",
   "pygments_lexer": "ipython3",
   "version": "3.9.7"
  }
 },
 "nbformat": 4,
 "nbformat_minor": 5
}
