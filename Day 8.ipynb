{
 "cells": [
  {
   "cell_type": "code",
   "execution_count": 1,
   "id": "3af76879",
   "metadata": {},
   "outputs": [],
   "source": [
    "## functions and ceaser ciphering"
   ]
  },
  {
   "cell_type": "code",
   "execution_count": 4,
   "id": "f07289b5",
   "metadata": {},
   "outputs": [
    {
     "name": "stdout",
     "output_type": "stream",
     "text": [
      "Jenniffer\n",
      "Shanghai\n"
     ]
    },
    {
     "data": {
      "text/plain": [
       "'Hello Jenniffer, welcome to Shanghai.'"
      ]
     },
     "execution_count": 4,
     "metadata": {},
     "output_type": "execute_result"
    }
   ],
   "source": [
    "def greet_with(name,location):\n",
    "    return f\"Hello {name}, welcome to {location}.\"\n",
    "greet_with(input(),input())"
   ]
  },
  {
   "cell_type": "code",
   "execution_count": 8,
   "id": "1b5f0fbb",
   "metadata": {},
   "outputs": [
    {
     "name": "stdout",
     "output_type": "stream",
     "text": [
      "Hello Peter, welcome to Berlin, what would like to have in dinner? \n",
      "Thank you, I would like to have Currywurst and 1 beer please. \n"
     ]
    }
   ],
   "source": [
    "def greet_with(name,location,cuisine):\n",
    "    #return f\"Hello {name}, welcome to {location}, what would like to have in dinner? Thank you, I would like to have {cuisine} please. \"\n",
    "    print(f\"Hello {name}, welcome to {location}, what would like to have in dinner? \\nThank you, I would like to have {cuisine} please. \")\n",
    "greet_with(name=\"Peter\",location=\"Berlin\",cuisine=\"Currywurst and 1 beer\")"
   ]
  },
  {
   "cell_type": "markdown",
   "id": "47e954f7",
   "metadata": {},
   "source": [
    "## Project 16: Paint Area Calculator"
   ]
  },
  {
   "cell_type": "code",
   "execution_count": 16,
   "id": "4810875b",
   "metadata": {},
   "outputs": [
    {
     "name": "stdout",
     "output_type": "stream",
     "text": [
      "Enter the no of calculations you wanna do: 2\n",
      "2\n",
      "4\n",
      "You'll need 2 cans of paint,thank you for using our service!\n",
      "9\n",
      "3\n",
      "You'll need 5 cans of paint,thank you for using our service!\n"
     ]
    }
   ],
   "source": [
    "def area_cal(wall_height_in_meters,wall_width_in_meters):\n",
    "    capacity_of_1can=5\n",
    "    no_of_cans=(wall_height_in_meters*wall_width_in_meters)/capacity_of_1can\n",
    "    ans=round(no_of_cans)\n",
    "    return f\"You'll need {ans} cans of paint,thank you for using our service!\"    \n",
    "\n",
    "for _ in range(int(input(\"Enter the no of calculations you wanna do: \"))):\n",
    "    print(area_cal(int(input()),int(input())))\n",
    "    "
   ]
  },
  {
   "cell_type": "code",
   "execution_count": 24,
   "id": "fd583d6e",
   "metadata": {},
   "outputs": [
    {
     "name": "stdout",
     "output_type": "stream",
     "text": [
      "Enter the no of times you want to check the number: 1\n",
      "Enter your number: 9\n",
      "No, 9 is not prime\n"
     ]
    }
   ],
   "source": [
    "## prime number checker\n",
    "def prime(n):\n",
    "    c=0\n",
    "    for i in range(1,n+1):\n",
    "        if(n%i==0):\n",
    "            c+=1\n",
    "    if(c==2):\n",
    "        return f\"Yes, {n} is prime\"\n",
    "    else:\n",
    "        return f\"No, {n} is not prime\"\n",
    "for _ in range(int(input(\"Enter the no of times you want to check the number: \"))):\n",
    "    print(prime(int(input(\"Enter your number: \"))))"
   ]
  },
  {
   "cell_type": "code",
   "execution_count": 25,
   "id": "a954577b",
   "metadata": {},
   "outputs": [],
   "source": [
    "# Ceaser Cipher part-1"
   ]
  },
  {
   "cell_type": "code",
   "execution_count": 34,
   "id": "cf58865a",
   "metadata": {},
   "outputs": [
    {
     "name": "stdout",
     "output_type": "stream",
     "text": [
      "Enter the no of times you want to encrypt a message: 2\n",
      "Enter your message which need to be enciphered: Hello\n",
      "Enter the shift you wnat to encipher the message: 5\n",
      " Mjqqt : this is your ciphered code!\n",
      "Enter your message which need to be enciphered: Nothing is s@fe.\n",
      "Enter the shift you wnat to encipher the message: 5\n",
      " Stymnsl%nx%xEkj3 : this is your ciphered code!\n"
     ]
    }
   ],
   "source": [
    "def cipher(mssg,n):\n",
    "    s=\" \"\n",
    "    for i in mssg:\n",
    "        s+=chr(ord(i)+n)\n",
    "    return s+\" : this is your ciphered code!\"\n",
    "for _ in range(int(input(\"Enter the no of times you want to encrypt a message: \"))):\n",
    "    print(cipher(input(\"Enter your message which need to be enciphered: \"),int(input(\"Enter the shift you wnat to encipher the message: \"))))"
   ]
  },
  {
   "cell_type": "code",
   "execution_count": 33,
   "id": "f3c05c02",
   "metadata": {},
   "outputs": [
    {
     "name": "stdout",
     "output_type": "stream",
     "text": [
      "5\n",
      " mjqqt%ujyjwI\n"
     ]
    }
   ],
   "source": [
    "n=int(input())\n",
    "s=\" \"\n",
    "for i in \"hello peterD\":\n",
    "    s+=chr(ord(i)+n)\n",
    "print(s)"
   ]
  },
  {
   "cell_type": "code",
   "execution_count": null,
   "id": "54ba98de",
   "metadata": {},
   "outputs": [],
   "source": []
  }
 ],
 "metadata": {
  "kernelspec": {
   "display_name": "Python 3 (ipykernel)",
   "language": "python",
   "name": "python3"
  },
  "language_info": {
   "codemirror_mode": {
    "name": "ipython",
    "version": 3
   },
   "file_extension": ".py",
   "mimetype": "text/x-python",
   "name": "python",
   "nbconvert_exporter": "python",
   "pygments_lexer": "ipython3",
   "version": "3.9.7"
  }
 },
 "nbformat": 4,
 "nbformat_minor": 5
}
