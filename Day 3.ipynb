{
 "cells": [
  {
   "cell_type": "code",
   "execution_count": 4,
   "id": "0a93ea2f",
   "metadata": {},
   "outputs": [
    {
     "name": "stdout",
     "output_type": "stream",
     "text": [
      "Welcome to the rollercoaster\n",
      "Enter your height? 105\n",
      "Sorry! You are not allowed\n"
     ]
    }
   ],
   "source": [
    "# Conditional statements and loops: while, for, if, elif, else.\n",
    "print(\"Welcome to the rollercoaster\")\n",
    "height=int(input(\"Enter your height? \"))\n",
    "if(height>120):\n",
    "    print(\"You can ride the rollercoaster!\")\n",
    "else:\n",
    "    print(\"Sorry! You are not allowed\")"
   ]
  },
  {
   "cell_type": "code",
   "execution_count": 7,
   "id": "f6a5ebac",
   "metadata": {},
   "outputs": [
    {
     "name": "stdout",
     "output_type": "stream",
     "text": [
      "Enter your grade: A\n",
      "1st Division passed\n"
     ]
    }
   ],
   "source": [
    "Grade=input(\"Enter your grade: \")\n",
    "if(Grade=='A'):\n",
    "    print(\"1st Division passed\")\n",
    "elif(Grade=='B'):\n",
    "    print(\"2nd Division passed\")\n",
    "elif(Grade=='C'):\n",
    "    print(\"3rd Division passed\")\n",
    "else:\n",
    "    print(\"Failed!\")"
   ]
  },
  {
   "cell_type": "code",
   "execution_count": 9,
   "id": "5d54d2be",
   "metadata": {},
   "outputs": [
    {
     "name": "stdout",
     "output_type": "stream",
     "text": [
      "18\n",
      "Even\n"
     ]
    }
   ],
   "source": [
    "if(int(input())%2==0):\n",
    "    print(\"Even\")\n",
    "else:\n",
    "    print(\"Odd\")"
   ]
  },
  {
   "cell_type": "markdown",
   "id": "da38bc80",
   "metadata": {},
   "source": [
    "## Project 5: BMI pointer"
   ]
  },
  {
   "cell_type": "code",
   "execution_count": 13,
   "id": "4b1b364c",
   "metadata": {},
   "outputs": [
    {
     "name": "stdout",
     "output_type": "stream",
     "text": [
      "enter your height in meters: 1.7018\n",
      "enter your weight in kg: 65\n",
      "Your bmi is:  22\n",
      "Congrats!! you are normal weight\n"
     ]
    }
   ],
   "source": [
    "print(\"Hi welcome to the BMI Pointer.\")\n",
    "height=input(\"enter your height in meters: \")\n",
    "weight=input(\"enter your weight in kg: \")\n",
    "Bmi= (float(weight)/(float(height)**2))\n",
    "print(\"Your bmi is: \",round(float(Bmi)))\n",
    "if(Bmi<18.50):\n",
    "    print(\"You are Underweight!\")\n",
    "elif(Bmi>18.5 and Bmi<=25):\n",
    "    print(\"Congrats!! you are normal weight\")\n",
    "elif(Bmi>25 and Bmi<=30):\n",
    "    print(\"Oops! you are overweight\")\n",
    "elif(Bmi>30 and Bmi<=35):\n",
    "    print(\"Your are obese\")\n",
    "else:\n",
    "    print(\"You are clinically obese!! iconsult a doctor please.\")\n",
    "    "
   ]
  },
  {
   "cell_type": "code",
   "execution_count": 23,
   "id": "003b9fc0",
   "metadata": {},
   "outputs": [
    {
     "name": "stdout",
     "output_type": "stream",
     "text": [
      "Enter your year: 2024\n",
      "Its a leap year\n"
     ]
    }
   ],
   "source": [
    "year=int(input(\"Enter your year: \"))\n",
    "if(year%4==0):\n",
    "    if(year%100==0):\n",
    "        if(year%400==0):\n",
    "            print(\"Its a leap year\")\n",
    "        else:\n",
    "            print(\"Not a leap Year\")\n",
    "    else:\n",
    "        print(\"Its a leap year\")\n",
    "else:\n",
    "    print(\"not a leap year\")"
   ]
  },
  {
   "cell_type": "markdown",
   "id": "895afe6f",
   "metadata": {},
   "source": [
    "## Project 6: PIZZA ORDER PORTAL"
   ]
  },
  {
   "cell_type": "code",
   "execution_count": 33,
   "id": "490da863",
   "metadata": {},
   "outputs": [
    {
     "name": "stdout",
     "output_type": "stream",
     "text": [
      "Hi Welcome to La Pizzaria \n",
      "\n",
      "Below is our menu:\n",
      "Any Small Pizza: $15 \n",
      "Any Medium Pizza: $20 \n",
      "Any Large Pizza: $25 \n",
      "\n",
      "Pepperoni for small pizza: +$2 \n",
      "Pepperoni for Medium and large Pizza: +$3 \n",
      "\n",
      "Extra cheese for : +$1\n",
      "No of pizza2\n",
      "Enter the size of pizza: small\n",
      "select yes or no:Y\n",
      "Want extra cheese? yes or no: Y\n",
      "Enter the size of pizza: medium\n",
      "select yes or no:Y\n",
      "Want extra cheese? yes or no: Y\n",
      "$ 42  is your Bill \n",
      "Thank You!! please visit us again\n"
     ]
    }
   ],
   "source": [
    "print(\"Hi Welcome to La Pizzaria \\n\\nBelow is our menu:\")\n",
    "print(\"Any Small Pizza: $15 \\nAny Medium Pizza: $20 \\nAny Large Pizza: $25 \\n\\nPepperoni for small pizza: +$2 \\nPepperoni for Medium and large Pizza: +$3 \\n\\nExtra cheese for : +$1\")\n",
    "n=int(input(\"No of pizza\"))\n",
    "s=0\n",
    "x=0\n",
    "sm=\"small\"\n",
    "m=\"medium\"\n",
    "l=\"large\"\n",
    "for i in range(n):\n",
    "    type=input(\"Enter the size of pizza: \")\n",
    "    add_pepperoni=input(\"select yes or no:\")\n",
    "    extra_cheese=input(\"Want extra cheese? yes or no: \")\n",
    "    if(type==sm):\n",
    "        if(add_pepperoni=='Y'):\n",
    "            if(extra_cheese=='Y'):\n",
    "                s=s+15+2+1\n",
    "            else:\n",
    "                s=s+15+2\n",
    "        else:\n",
    "            s+=15\n",
    "    elif(type==m):\n",
    "        if(add_pepperoni=='Y'):\n",
    "            if(extra_cheese=='Y'):\n",
    "                s=s+20+3+1\n",
    "            elif(extra_cheese=='N'):\n",
    "                s=s+20+3\n",
    "        else:\n",
    "            s+=20\n",
    "    else:\n",
    "        if(add_pepperoni=='Y'):\n",
    "            if(extra_cheese=='Y'):\n",
    "                s=s+25+3+1\n",
    "            elif(extra_cheese=='N'):\n",
    "                s=s+25+3\n",
    "        else:\n",
    "            s+=25\n",
    "x+=s\n",
    "print(\"$\",x,\" is your Bill \\nThank You!! please visit us again\")\n",
    "\n",
    "            \n",
    "        "
   ]
  },
  {
   "cell_type": "markdown",
   "id": "5e2bbcc2",
   "metadata": {},
   "source": [
    "## Project 7: Love Calculator"
   ]
  },
  {
   "cell_type": "code",
   "execution_count": 36,
   "id": "fe62d2b0",
   "metadata": {},
   "outputs": [
    {
     "name": "stdout",
     "output_type": "stream",
     "text": [
      "Enter your name: JENNIFER ANNISTON\n",
      "Enter your crush/patner's name: BRATT PITT\n",
      "Your Love meter says your compatibility is: 93\n"
     ]
    }
   ],
   "source": [
    "s1=input(\"Enter your name: \")\n",
    "s2=input(\"Enter your crush/patner's name: \")\n",
    "s3=s1+s2\n",
    "s3=s3.upper()\n",
    "t=s3.count('T')\n",
    "r=s3.count('R')\n",
    "u=s3.count('U')\n",
    "e=s3.count('E')\n",
    "c1=t+r+u+e\n",
    "c1=str(c1)\n",
    "l=s3.count('L')\n",
    "o=s3.count('O')\n",
    "v=s3.count('V')\n",
    "e=s3.count('E')\n",
    "c2=l+o+v+e\n",
    "c2=str(c2)\n",
    "\n",
    "print(\"Your Love meter says your compatibility is: \"+c1+c2)\n"
   ]
  },
  {
   "cell_type": "markdown",
   "id": "d3628c91",
   "metadata": {},
   "source": [
    "## Project 8: Treasure Island Game"
   ]
  },
  {
   "cell_type": "code",
   "execution_count": 57,
   "id": "29a50343",
   "metadata": {},
   "outputs": [
    {
     "name": "stdout",
     "output_type": "stream",
     "text": [
      "Welcome to Treasure Island, Your mission is to find the treasure.\n",
      "chooose left or right left\n",
      "EITHER SWIM OR WAIT wait\n",
      "which door you choose? yellow\n",
      "YAYY... YOU WIN! \n",
      " *******************************************************************************\n",
      "          |                   |                  |                     |\n",
      " _________|________________.=\"\"_;=.______________|_____________________|_______\n",
      "|                   |  ,-\"_,=\"\"     `\"=.|                  |\n",
      "|___________________|__\"=._o`\"-._        `\"=.______________|___________________\n",
      "          |                `\"=._o`\"=._      _`\"=._                     |\n",
      " _________|_____________________:=._o \"=._.\"_.-=\"'\"=.__________________|_______\n",
      "|                   |    __.--\" , ; `\"=._o.\" ,-\"\"\"-._ \".   |\n",
      "|___________________|_._\"  ,. .` ` `` ,  `\"-._\"-._   \". '__|___________________\n",
      "          |           |o`\"=._` , \"` `; .\". ,  \"-._\"-._; ;              |\n",
      " _________|___________| ;`-.o`\"=._; .\" ` '`.\"\\` . \"-._ /_______________|_______\n",
      "|                   | |o;    `\"-.o`\"=._``  '` \" ,__.--o;   |\n",
      "|___________________|_| ;     (#) `-.o `\"=.`_.--\"_o.-; ;___|___________________\n",
      "____/______/______/___|o;._    \"      `\".o|o_.--\"    ;o;____/______/______/____\n",
      "/______/______/______/_\"=._o--._        ; | ;        ; ;/______/______/______/_\n",
      "____/______/______/______/__\"=._o--._   ;o|o;     _._;o;____/______/______/____\n",
      "/______/______/______/______/____\"=._o._; | ;_.--\"o.--\"_/______/______/______/_\n",
      "____/______/______/______/______/_____\"=.o|o_.--\"\"___/______/______/______/____\n",
      "/______/______/______/______/______/______/______/______/______/______/________/\n",
      "*******************************************************************************\n"
     ]
    }
   ],
   "source": [
    "print(\"Welcome to Treasure Island, Your mission is to find the treasure.\")\n",
    "c1=input(\"chooose left or right \")\n",
    "if(c1==\"right \"):\n",
    "    print(\"GAME OVER\")\n",
    "else:\n",
    "    c2=input(\"EITHER SWIM OR WAIT \")\n",
    "    if(c2==\"swim\"):\n",
    "        print(\"GAME OVER\")\n",
    "    else:\n",
    "        c3=input(\"which door you choose? \")\n",
    "        if(c3==\"red\"):\n",
    "            print(\"GAME OVER \")\n",
    "        elif(c3==\"blue\"):\n",
    "            print(\"GAME OVER\")\n",
    "        elif(c3==\"yellow\"):\n",
    "            print(\"YAYY... YOU WIN! \")\n",
    "        else:\n",
    "            \"wrong choice\"\n",
    "            \n",
    "        \n",
    "           \n",
    "        \n",
    "print(''' *******************************************************************************\n",
    "          |                   |                  |                     |\n",
    " _________|________________.=\"\"_;=.______________|_____________________|_______\n",
    "|                   |  ,-\"_,=\"\"     `\"=.|                  |\n",
    "|___________________|__\"=._o`\"-._        `\"=.______________|___________________\n",
    "          |                `\"=._o`\"=._      _`\"=._                     |\n",
    " _________|_____________________:=._o \"=._.\"_.-=\"'\"=.__________________|_______\n",
    "|                   |    __.--\" , ; `\"=._o.\" ,-\"\"\"-._ \".   |\n",
    "|___________________|_._\"  ,. .` ` `` ,  `\"-._\"-._   \". '__|___________________\n",
    "          |           |o`\"=._` , \"` `; .\". ,  \"-._\"-._; ;              |\n",
    " _________|___________| ;`-.o`\"=._; .\" ` '`.\"\\` . \"-._ /_______________|_______\n",
    "|                   | |o;    `\"-.o`\"=._``  '` \" ,__.--o;   |\n",
    "|___________________|_| ;     (#) `-.o `\"=.`_.--\"_o.-; ;___|___________________\n",
    "____/______/______/___|o;._    \"      `\".o|o_.--\"    ;o;____/______/______/____\n",
    "/______/______/______/_\"=._o--._        ; | ;        ; ;/______/______/______/_\n",
    "____/______/______/______/__\"=._o--._   ;o|o;     _._;o;____/______/______/____\n",
    "/______/______/______/______/____\"=._o._; | ;_.--\"o.--\"_/______/______/______/_\n",
    "____/______/______/______/______/_____\"=.o|o_.--\"\"___/______/______/______/____\n",
    "/______/______/______/______/______/______/______/______/______/______/________/\n",
    "*******************************************************************************''')\n",
    "#From ascii.co.uk/art\n"
   ]
  },
  {
   "cell_type": "code",
   "execution_count": null,
   "id": "816687bf",
   "metadata": {},
   "outputs": [],
   "source": [
    "\n"
   ]
  },
  {
   "cell_type": "code",
   "execution_count": null,
   "id": "d45e0f6d",
   "metadata": {},
   "outputs": [],
   "source": []
  }
 ],
 "metadata": {
  "kernelspec": {
   "display_name": "Python 3 (ipykernel)",
   "language": "python",
   "name": "python3"
  },
  "language_info": {
   "codemirror_mode": {
    "name": "ipython",
    "version": 3
   },
   "file_extension": ".py",
   "mimetype": "text/x-python",
   "name": "python",
   "nbconvert_exporter": "python",
   "pygments_lexer": "ipython3",
   "version": "3.9.7"
  }
 },
 "nbformat": 4,
 "nbformat_minor": 5
}
