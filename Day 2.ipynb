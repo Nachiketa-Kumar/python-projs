{
 "cells": [
  {
   "cell_type": "code",
   "execution_count": 1,
   "id": "08c20450",
   "metadata": {},
   "outputs": [
    {
     "name": "stdout",
     "output_type": "stream",
     "text": [
      "<class 'float'>\n"
     ]
    }
   ],
   "source": [
    "# DataType\n",
    "mystery=27357_829.2863\n",
    "print(type(mysterystery))"
   ]
  },
  {
   "cell_type": "code",
   "execution_count": 7,
   "id": "24a82157",
   "metadata": {},
   "outputs": [
    {
     "name": "stdout",
     "output_type": "stream",
     "text": [
      "What is your name? Nachiketa Kumar\n",
      "<class 'int'>\n",
      "15\n",
      "<class 'int'>\n",
      "<class 'str'>\n"
     ]
    }
   ],
   "source": [
    "num_char=len(input(\"What is your name? \"))\n",
    "print(type(num_char))\n",
    "print(num_char)\n",
    "print(type(str(num_char))) # type conversion int to str"
   ]
  },
  {
   "cell_type": "code",
   "execution_count": 8,
   "id": "22020c25",
   "metadata": {},
   "outputs": [
    {
     "data": {
      "text/plain": [
       "int"
      ]
     },
     "execution_count": 8,
     "metadata": {},
     "output_type": "execute_result"
    }
   ],
   "source": [
    "a=2345\n",
    "type(a)"
   ]
  },
  {
   "cell_type": "code",
   "execution_count": 9,
   "id": "d405d002",
   "metadata": {},
   "outputs": [
    {
     "data": {
      "text/plain": [
       "str"
      ]
     },
     "execution_count": 9,
     "metadata": {},
     "output_type": "execute_result"
    }
   ],
   "source": [
    "type(str(a))"
   ]
  },
  {
   "cell_type": "code",
   "execution_count": 10,
   "id": "045aaa3d",
   "metadata": {},
   "outputs": [
    {
     "data": {
      "text/plain": [
       "float"
      ]
     },
     "execution_count": 10,
     "metadata": {},
     "output_type": "execute_result"
    }
   ],
   "source": [
    "type(float(a))"
   ]
  },
  {
   "cell_type": "code",
   "execution_count": 11,
   "id": "ac714080",
   "metadata": {},
   "outputs": [
    {
     "name": "stdout",
     "output_type": "stream",
     "text": [
      "202.24\n"
     ]
    }
   ],
   "source": [
    "print(100+float(102.24)) # Will result in float"
   ]
  },
  {
   "cell_type": "code",
   "execution_count": 13,
   "id": "73e9e83d",
   "metadata": {},
   "outputs": [
    {
     "ename": "TypeError",
     "evalue": "can only concatenate str (not \"float\") to str",
     "output_type": "error",
     "traceback": [
      "\u001b[1;31m---------------------------------------------------------------------------\u001b[0m",
      "\u001b[1;31mTypeError\u001b[0m                                 Traceback (most recent call last)",
      "\u001b[1;32m~\\AppData\\Local\\Temp/ipykernel_10444/1820299725.py\u001b[0m in \u001b[0;36m<module>\u001b[1;34m\u001b[0m\n\u001b[1;32m----> 1\u001b[1;33m \u001b[0mprint\u001b[0m\u001b[1;33m(\u001b[0m\u001b[0mstr\u001b[0m\u001b[1;33m(\u001b[0m\u001b[0ma\u001b[0m\u001b[1;33m)\u001b[0m\u001b[1;33m+\u001b[0m\u001b[0mfloat\u001b[0m\u001b[1;33m(\u001b[0m\u001b[0ma\u001b[0m\u001b[1;33m)\u001b[0m\u001b[1;33m)\u001b[0m \u001b[1;31m# will throw an error\u001b[0m\u001b[1;33m\u001b[0m\u001b[1;33m\u001b[0m\u001b[0m\n\u001b[0m",
      "\u001b[1;31mTypeError\u001b[0m: can only concatenate str (not \"float\") to str"
     ]
    }
   ],
   "source": [
    "print(str(a)+float(a)) # will throw an error"
   ]
  },
  {
   "cell_type": "code",
   "execution_count": 14,
   "id": "cf9de02e",
   "metadata": {},
   "outputs": [
    {
     "name": "stdout",
     "output_type": "stream",
     "text": [
      "23452345\n"
     ]
    }
   ],
   "source": [
    "print(str(a)+str(a))"
   ]
  },
  {
   "cell_type": "code",
   "execution_count": 17,
   "id": "6166875a",
   "metadata": {},
   "outputs": [
    {
     "name": "stdout",
     "output_type": "stream",
     "text": [
      "26\n",
      "8\n"
     ]
    }
   ],
   "source": [
    "b=str(int(input()))\n",
    "print(int(b[0])+int(b[1]))"
   ]
  },
  {
   "cell_type": "code",
   "execution_count": 21,
   "id": "17d607a7",
   "metadata": {},
   "outputs": [
    {
     "name": "stdout",
     "output_type": "stream",
     "text": [
      "enter your 2 digit number: 26.67\n",
      "8.0\n"
     ]
    }
   ],
   "source": [
    "b=input(\"enter your 2 digit number: \")\n",
    "print(float(b[0])+float(b[1]))"
   ]
  },
  {
   "cell_type": "code",
   "execution_count": 23,
   "id": "aa84d753",
   "metadata": {},
   "outputs": [
    {
     "data": {
      "text/plain": [
       "6"
      ]
     },
     "execution_count": 23,
     "metadata": {},
     "output_type": "execute_result"
    }
   ],
   "source": [
    "2+4\n"
   ]
  },
  {
   "cell_type": "code",
   "execution_count": 24,
   "id": "701da32c",
   "metadata": {},
   "outputs": [
    {
     "data": {
      "text/plain": [
       "3"
      ]
     },
     "execution_count": 24,
     "metadata": {},
     "output_type": "execute_result"
    }
   ],
   "source": [
    "4-1"
   ]
  },
  {
   "cell_type": "code",
   "execution_count": 25,
   "id": "a65033f0",
   "metadata": {},
   "outputs": [
    {
     "data": {
      "text/plain": [
       "15"
      ]
     },
     "execution_count": 25,
     "metadata": {},
     "output_type": "execute_result"
    }
   ],
   "source": [
    "5*3"
   ]
  },
  {
   "cell_type": "code",
   "execution_count": 29,
   "id": "922466b9",
   "metadata": {},
   "outputs": [
    {
     "name": "stdout",
     "output_type": "stream",
     "text": [
      "512\n"
     ]
    },
    {
     "data": {
      "text/plain": [
       "int"
      ]
     },
     "execution_count": 29,
     "metadata": {},
     "output_type": "execute_result"
    }
   ],
   "source": [
    "a=8**3\n",
    "print(a)\n",
    "type(a)"
   ]
  },
  {
   "cell_type": "code",
   "execution_count": 31,
   "id": "c810e6e7",
   "metadata": {},
   "outputs": [
    {
     "name": "stdout",
     "output_type": "stream",
     "text": [
      "3.0 <class 'float'>\n"
     ]
    }
   ],
   "source": [
    "a=9/3\n",
    "print(a,type(a))"
   ]
  },
  {
   "cell_type": "markdown",
   "id": "f575654d",
   "metadata": {},
   "source": [
    "### PEMDAS = Paranthesis, exponenet, Multiply, Divide, Add, Sub"
   ]
  },
  {
   "cell_type": "markdown",
   "id": "14de8b0b",
   "metadata": {},
   "source": [
    "## Project 3- BMI Calculator"
   ]
  },
  {
   "cell_type": "code",
   "execution_count": 36,
   "id": "97318306",
   "metadata": {},
   "outputs": [
    {
     "name": "stdout",
     "output_type": "stream",
     "text": [
      "enter your height in meters: 1.7018\n",
      "enter your weight in kg: 65\n",
      "22.0\n"
     ]
    }
   ],
   "source": [
    "height=input(\"enter your height in meters: \")\n",
    "weight=input(\"enter your weight in kg: \")\n",
    "Bmi= (float(weight)//(float(height)**2))\n",
    "print(float(Bmi))"
   ]
  },
  {
   "cell_type": "code",
   "execution_count": 37,
   "id": "9b40d08e",
   "metadata": {},
   "outputs": [
    {
     "data": {
      "text/plain": [
       "2.67"
      ]
     },
     "execution_count": 37,
     "metadata": {},
     "output_type": "execute_result"
    }
   ],
   "source": [
    "round(8/3,2)"
   ]
  },
  {
   "cell_type": "code",
   "execution_count": 42,
   "id": "b9ecdb2e",
   "metadata": {},
   "outputs": [
    {
     "name": "stdout",
     "output_type": "stream",
     "text": [
      "Your score is 100 in your cat exam and your winning is True! \n"
     ]
    }
   ],
   "source": [
    "score=100\n",
    "Bool=True\n",
    "print(f\"Your score is {score} in your cat exam and your winning is {Bool}! \" )"
   ]
  },
  {
   "cell_type": "markdown",
   "id": "bc5dc7ab",
   "metadata": {},
   "source": [
    "## Project 4- Days, weeks and years left to live (LIFE CALCULATOR)"
   ]
  },
  {
   "cell_type": "code",
   "execution_count": 1,
   "id": "a3c9cf19",
   "metadata": {},
   "outputs": [
    {
     "name": "stdout",
     "output_type": "stream",
     "text": [
      "Enter your current age: 27\n",
      "You have 22995 days, 3276 weeks, 756 months and 63 years left in your life, so Enjoy and live out loud!\n"
     ]
    }
   ],
   "source": [
    "age=int(input(\"Enter your current age: \"))\n",
    "max_age=90\n",
    "days= int((max_age*365)-(age*365))\n",
    "weeks= int((max_age*52)-(age*52))\n",
    "months= int((max_age*12)-(age*12))\n",
    "year= int(max_age-age)\n",
    "print(f\"You have {days} days, {weeks} weeks, {months} months and {year} years left in your life, so Enjoy and live out loud!\")"
   ]
  },
  {
   "cell_type": "code",
   "execution_count": null,
   "id": "1e96bcfe",
   "metadata": {},
   "outputs": [],
   "source": []
  },
  {
   "cell_type": "code",
   "execution_count": null,
   "id": "5fea23c9",
   "metadata": {},
   "outputs": [],
   "source": []
  }
 ],
 "metadata": {
  "kernelspec": {
   "display_name": "Python 3 (ipykernel)",
   "language": "python",
   "name": "python3"
  },
  "language_info": {
   "codemirror_mode": {
    "name": "ipython",
    "version": 3
   },
   "file_extension": ".py",
   "mimetype": "text/x-python",
   "name": "python",
   "nbconvert_exporter": "python",
   "pygments_lexer": "ipython3",
   "version": "3.9.7"
  }
 },
 "nbformat": 4,
 "nbformat_minor": 5
}
