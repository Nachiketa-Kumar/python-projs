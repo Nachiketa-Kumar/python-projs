{
 "cells": [
  {
   "cell_type": "code",
   "execution_count": 1,
   "id": "495f0ded",
   "metadata": {},
   "outputs": [
    {
     "name": "stdout",
     "output_type": "stream",
     "text": [
      "ANGELA\n",
      "yu\n",
      "Angela\n",
      "Yu\n",
      "None\n"
     ]
    }
   ],
   "source": [
    "def format_name(f_name,l_name):\n",
    "    print(f_name.title())\n",
    "    print(l_name.title())\n",
    "print(format_name(input(),input()))"
   ]
  },
  {
   "cell_type": "code",
   "execution_count": 6,
   "id": "62ad35f2",
   "metadata": {},
   "outputs": [
    {
     "name": "stdout",
     "output_type": "stream",
     "text": [
      "NACHIKETA\n",
      "kumar\n",
      "Nachiketa Kumar\n"
     ]
    }
   ],
   "source": [
    "def format_name(f_name,l_name):\n",
    "    return f_name.title()+\" \"+l_name.title()\n",
    "print(format_name(input(),input()))"
   ]
  },
  {
   "cell_type": "code",
   "execution_count": 8,
   "id": "28a75bb3",
   "metadata": {},
   "outputs": [
    {
     "name": "stdout",
     "output_type": "stream",
     "text": [
      "NACHIKETA\n",
      "kumar\n",
      "Nachiketa is his first name \n",
      "Kumar is his last name\n"
     ]
    }
   ],
   "source": [
    "# MULTIPLE RETURN STATEMENTS\n",
    "def format_name(f_name,l_name):\n",
    "    f=f_name.title()\n",
    "    l=l_name.title()\n",
    "    return f\"{f} is his first name \\n{l} is his last name\"\n",
    "print(format_name(input(),input()))"
   ]
  },
  {
   "cell_type": "code",
   "execution_count": 33,
   "id": "ebbb3406",
   "metadata": {},
   "outputs": [
    {
     "name": "stdout",
     "output_type": "stream",
     "text": [
      "ENTER THE YEAR: 2024\n",
      "Leap Year\n",
      "Enter the Month's Number: 2\n",
      "28\n"
     ]
    }
   ],
   "source": [
    "def leap(year):\n",
    "    if(year%4==0):\n",
    "        if(year%100==0):\n",
    "            if(year%400==0):\n",
    "                return \"Leap Year\"\n",
    "            else:\n",
    "                return \"Not a Leap Year\"\n",
    "        else:\n",
    "            return \"Leap Year\"\n",
    "    else:\n",
    "        return \"Not a Leap Year\"\n",
    "def days_in_month(year,month):\n",
    "    months_days=[31,28,31,30,31,30,31,31,30,31,30,31]\n",
    "    if(leap(year) and month==2):\n",
    "        return 29\n",
    "    return months_days[month-1]\n",
    "y=int(input(\"ENTER THE YEAR: \"))\n",
    "print(leap(y))\n",
    "print(days_in_month(y,int(input(\"Enter the Month's Number: \"))))\n"
   ]
  },
  {
   "cell_type": "code",
   "execution_count": 37,
   "id": "825c3682",
   "metadata": {},
   "outputs": [],
   "source": [
    "#Docstring\n",
    "a=\"\"\"hello there this is\n",
    "    nachiketa kumar\n",
    "    em learinig through 100 days bootcamp \"\"\""
   ]
  },
  {
   "cell_type": "markdown",
   "id": "612cbe16",
   "metadata": {},
   "source": [
    "## End to End Calculator\n",
    "\n",
    "\n"
   ]
  },
  {
   "cell_type": "code",
   "execution_count": 47,
   "id": "1340283e",
   "metadata": {},
   "outputs": [
    {
     "name": "stdout",
     "output_type": "stream",
     "text": [
      "Enter your first No: 55\n",
      "select your operation symbol from below: *\n",
      "Enter your second No: 100\n",
      "+\n",
      "-\n",
      "*\n",
      "/\n",
      "55 * 100 = 5500\n"
     ]
    }
   ],
   "source": [
    "def add(a,b):\n",
    "    return a+b\n",
    "def sub(a,b):\n",
    "    return a-b\n",
    "def mul(a,b):\n",
    "    return a*b\n",
    "def div(a,b):\n",
    "    return a/b\n",
    "\n",
    "operators={\"+\":add,\n",
    "           \"-\":sub,\n",
    "           \"*\":mul,\n",
    "           \"/\":div}\n",
    "a=int(input(\"Enter your first No: \"))\n",
    "op_symbl=input(\"select your operation symbol from below: \")\n",
    "b=int(input(\"Enter your second No: \"))\n",
    "for i in operators:\n",
    "    print(i)\n",
    "cal_ans=operators[op_symbl]\n",
    "ans=cal_ans(a,b)\n",
    "print(f\"{a} {op_symbl} {b} = {ans}\" )"
   ]
  },
  {
   "cell_type": "code",
   "execution_count": null,
   "id": "ad154aa9",
   "metadata": {},
   "outputs": [],
   "source": []
  }
 ],
 "metadata": {
  "kernelspec": {
   "display_name": "Python 3 (ipykernel)",
   "language": "python",
   "name": "python3"
  },
  "language_info": {
   "codemirror_mode": {
    "name": "ipython",
    "version": 3
   },
   "file_extension": ".py",
   "mimetype": "text/x-python",
   "name": "python",
   "nbconvert_exporter": "python",
   "pygments_lexer": "ipython3",
   "version": "3.9.7"
  }
 },
 "nbformat": 4,
 "nbformat_minor": 5
}
