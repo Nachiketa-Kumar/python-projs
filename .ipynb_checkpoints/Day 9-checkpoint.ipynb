{
 "cells": [
  {
   "cell_type": "code",
   "execution_count": 1,
   "id": "db3ccc6e",
   "metadata": {},
   "outputs": [],
   "source": [
    "##dictionary deep dive"
   ]
  },
  {
   "cell_type": "code",
   "execution_count": 3,
   "id": "47f9699c",
   "metadata": {},
   "outputs": [
    {
     "name": "stdout",
     "output_type": "stream",
     "text": [
      "{'a': 'Hello', 'b': '1234', 2: 'Okay!!'}\n"
     ]
    }
   ],
   "source": [
    "\n",
    "d={'a':\"Hello\",'b':\"1234\",2:\"Okay!!\"}\n",
    "print(d)"
   ]
  },
  {
   "cell_type": "code",
   "execution_count": 17,
   "id": "c0f6b38d",
   "metadata": {},
   "outputs": [
    {
     "name": "stdout",
     "output_type": "stream",
     "text": [
      "dict_keys(['a', 'b', 2]) dict_values(['Hello', '1234', 'Okay!!'])\n"
     ]
    }
   ],
   "source": [
    "print(d.keys(),d.values())"
   ]
  },
  {
   "cell_type": "markdown",
   "id": "7dc361ba",
   "metadata": {},
   "source": [
    "## Grading Program"
   ]
  },
  {
   "cell_type": "code",
   "execution_count": 12,
   "id": "1a75fecd",
   "metadata": {},
   "outputs": [
    {
     "name": "stdout",
     "output_type": "stream",
     "text": [
      "Kavya - Acceptable\n",
      "Abhi - Outstanding\n",
      "Harsh - Acceptable\n",
      "Ananya - Unacceptable Grade\n",
      "Siya - Outstanding\n",
      "Ali - Unacceptable Grade\n"
     ]
    }
   ],
   "source": [
    "d1={\"Kavya\":75,\"Abhi\":95,\"Harsh\":80,\"Ananya\":65,\"Siya\":98,\"Ali\":70}\n",
    "for x,y in d1.items():\n",
    "    if(y>=91 and y<=100):\n",
    "        d1.update({x:\"- Outstanding\"})\n",
    "    elif(y>=81 and y<=90):\n",
    "        d1.update({x:\"- Exeeds Exceptions\"})\n",
    "    elif(y>=71 and y<=80):\n",
    "        d1.update({x:\"- Acceptable\"})\n",
    "    else:\n",
    "        d1.update({x:\"- Unacceptable Grade\"})\n",
    "for x,y in d1.items():\n",
    "    print(x,y)"
   ]
  },
  {
   "cell_type": "code",
   "execution_count": 15,
   "id": "2c485761",
   "metadata": {},
   "outputs": [],
   "source": [
    "d2=d1.copy()"
   ]
  },
  {
   "cell_type": "code",
   "execution_count": 17,
   "id": "944657c5",
   "metadata": {},
   "outputs": [
    {
     "name": "stdout",
     "output_type": "stream",
     "text": [
      "kavya\n",
      "kavya - Acceptable\n",
      "Abhi - Outstanding\n",
      "Harsh - Acceptable\n",
      "Ananya - Unacceptable Grade\n",
      "Siya - Outstanding\n",
      "Ali - Unacceptable Grade\n"
     ]
    }
   ],
   "source": [
    "d1={input():75,\"Abhi\":95,\"Harsh\":80,\"Ananya\":65,\"Siya\":98,\"Ali\":70}\n",
    "for x,y in d1.items():\n",
    "    if(y>=91 and y<=100):\n",
    "        d1.update({x:\"- Outstanding\"})\n",
    "    elif(y>=81 and y<=90):\n",
    "        d1.update({x:\"- Exeeds Exceptions\"})\n",
    "    elif(y>=71 and y<=80):\n",
    "        d1.update({x:\"- Acceptable\"})\n",
    "    else:\n",
    "        d1.update({x:\"- Unacceptable Grade\"})\n",
    "for x,y in d1.items():\n",
    "    print(x,y)"
   ]
  },
  {
   "cell_type": "markdown",
   "id": "eaf6baf4",
   "metadata": {},
   "source": [
    "## Nesting dictionary in a dictionary"
   ]
  },
  {
   "cell_type": "code",
   "execution_count": null,
   "id": "8a423d99",
   "metadata": {},
   "outputs": [],
   "source": [
    "travel_log={    \n",
    "    \"France\":{\"Cities_Visited\": [\"Paris\",\"Normandy,\"Lyon\",\"Chateau\",\"Lille\"],\"total_visits\":12},\n",
    "    \"Germany\":{\"Cities_Visited\": [\"Stuttgart\",\"Munich\",\"Hamburg\",\"Franfurt\",\"Berlin\"],\"total_visits\":12}                           \n",
    "}"
   ]
  },
  {
   "cell_type": "markdown",
   "id": "a4ad8d6e",
   "metadata": {},
   "source": [
    "## Nesting diconary in a list"
   ]
  },
  {
   "cell_type": "code",
   "execution_count": null,
   "id": "2eecd15a",
   "metadata": {},
   "outputs": [],
   "source": [
    "travel_log=[{    \n",
    "    \"Country\":\"France\",\"Cities_Visited\": [\"Paris\",\"Normandy,\"Lyon\",\"Chateau\",\"Lille\"],\"total_visits\":12}},\n",
    "    {\"Country\":\"Germany\",\"Cities_Visited\": [\"Stuttgart\",\"Munich\",\"Hamburg\",\"Franfurt\",\"Berlin\"],\"total_visits\":12}                           \n",
    "}]"
   ]
  },
  {
   "cell_type": "markdown",
   "id": "b600d30d",
   "metadata": {},
   "source": [
    "## Project 15: Secret Auction."
   ]
  },
  {
   "cell_type": "code",
   "execution_count": 4,
   "id": "34538dd4",
   "metadata": {},
   "outputs": [
    {
     "name": "stdout",
     "output_type": "stream",
     "text": [
      "What is your name? : kelly\n",
      "Enter your bid price in $: 5000000\n"
     ]
    },
    {
     "data": {
      "text/plain": [
       "{'kelly': 5000000}"
      ]
     },
     "execution_count": 4,
     "metadata": {},
     "output_type": "execute_result"
    }
   ],
   "source": [
    "d1={input(\"What is your name? : \"):int(input(\"Enter your bid price in $: \"))}\n",
    "d1"
   ]
  },
  {
   "cell_type": "code",
   "execution_count": 8,
   "id": "01ebd083",
   "metadata": {},
   "outputs": [
    {
     "name": "stdout",
     "output_type": "stream",
     "text": [
      "\n",
      "       _\n",
      "      /(  ___________\n",
      "     |  >:===========`\n",
      "      )(\n",
      "      \"\"\n"
     ]
    }
   ],
   "source": [
    "print('''\n",
    "       _\n",
    "      /(  ___________\n",
    "     |  >:===========`\n",
    "      )(\n",
    "      \"\"''')"
   ]
  },
  {
   "cell_type": "code",
   "execution_count": 14,
   "id": "7cd43c20",
   "metadata": {},
   "outputs": [
    {
     "name": "stdout",
     "output_type": "stream",
     "text": [
      "What is your name? : mia\n",
      "Enter your bid price in $: 742492124971\n",
      "What is your name? : nicole\n",
      "Enter your bid price in $: 2646464\n",
      "What is your name? : johny\n",
      "Enter your bid price in $: 6464146461\n"
     ]
    },
    {
     "data": {
      "text/plain": [
       "'johny'"
      ]
     },
     "execution_count": 14,
     "metadata": {},
     "output_type": "execute_result"
    }
   ],
   "source": [
    "for i in range(3):\n",
    "    name=input(\"What is your name? : \")\n",
    "    bid=int(input(\"Enter your bid price in $: \"))\n",
    "    d={}\n",
    "    d[name]=bid\n"
   ]
  },
  {
   "cell_type": "code",
   "execution_count": 27,
   "id": "0a376b67",
   "metadata": {},
   "outputs": [
    {
     "name": "stdout",
     "output_type": "stream",
     "text": [
      "What is your name? : andrew\n",
      "Enter your bid price in $: 57521\n",
      "Any other bidders wanna continue? :Yes\n",
      "What is your name? : Mia\n",
      "Enter your bid price in $: 41028\n",
      "Any other bidders wanna continue? :Yes\n",
      "What is your name? : Tessa\n",
      "Enter your bid price in $: 65822\n",
      "Any other bidders wanna continue? :Yes\n",
      "What is your name? : Gabbie\n",
      "Enter your bid price in $: 36870\n",
      "Any other bidders wanna continue? :No\n",
      "andrew  is the highest bidder, Congrats you own this bid!!\n"
     ]
    }
   ],
   "source": [
    "flag=1\n",
    "s=0\n",
    "d={}\n",
    "while(flag!=0):\n",
    "    name=input(\"What is your name? : \")\n",
    "    bid=int(input(\"Enter your bid price in $: \"))\n",
    "    d[name]=bid\n",
    "    wanna_continue=input(\"Any other bidders wanna continue? :\")\n",
    "    if(wanna_continue==\"Yes\"):\n",
    "        flag=1\n",
    "    elif(wanna_continue==\"No\"):\n",
    "        flag=0\n",
    "    else:\n",
    "        s=1\n",
    "        flag=0\n",
    "        \n",
    "if(s!=1):       \n",
    "    print(d,\"\\n\",max(d),\" is the highest bidder, Congrats you own this bid!!\")\n",
    "else:\n",
    "    print(\"Sorry Wrong input for bid! please try again.\")"
   ]
  },
  {
   "cell_type": "code",
   "execution_count": null,
   "id": "7116a57f",
   "metadata": {},
   "outputs": [],
   "source": []
  }
 ],
 "metadata": {
  "kernelspec": {
   "display_name": "Python 3 (ipykernel)",
   "language": "python",
   "name": "python3"
  },
  "language_info": {
   "codemirror_mode": {
    "name": "ipython",
    "version": 3
   },
   "file_extension": ".py",
   "mimetype": "text/x-python",
   "name": "python",
   "nbconvert_exporter": "python",
   "pygments_lexer": "ipython3",
   "version": "3.9.7"
  }
 },
 "nbformat": 4,
 "nbformat_minor": 5
}
