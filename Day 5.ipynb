{
 "cells": [
  {
   "cell_type": "markdown",
   "id": "b2006ccb",
   "metadata": {},
   "source": [
    "## Project 13: Password Generator "
   ]
  },
  {
   "cell_type": "code",
   "execution_count": 22,
   "id": "b4320531",
   "metadata": {},
   "outputs": [
    {
     "name": "stdout",
     "output_type": "stream",
     "text": [
      "Welcome to the password generator!!\n",
      "how many letters you need in your passcode?\n",
      "7\n",
      "how many numbers you need in your password?\n",
      " 5\n",
      "how many symbols you need in your password?\n",
      " 2\n",
      "HgbhrKr63353*(\n",
      "5 h b 6 ( r g K H * 3  : Is your new generated desired password\n"
     ]
    }
   ],
   "source": [
    "# 1st method \n",
    "print(\"Welcome to the password generator!!\")\n",
    "import random\n",
    "l1=['a','b','c','d','e','f','g','h','i','j','k','l','m','n','o','p','q','r','s','t','u','v','w','x','y','z','A','B'\n",
    "    , 'C', 'D', 'E', 'F', 'G', 'H', 'I', 'J', 'K', 'L', 'M', 'N', 'O', 'P', 'Q', 'R', 'S', 'T', 'U', 'V', 'W', 'X', 'Y', 'Z']\n",
    "l2=['0','1','2','3','4','5','6','7','8','9']\n",
    "l3=['!','@','#','$','%','^','&','*','(',')','_','-','+','=','~']\n",
    "alpha=int(input(\"how many letters you need in your passcode?\\n\" ))\n",
    "num=int(input(\"how many numbers you need in your password?\\n \"))\n",
    "symb=int(input(\"how many symbols you need in your password?\\n \"))\n",
    "s1=\"\"\n",
    "s2=\"\"\n",
    "s3=\"\"\n",
    "for i in range(0,alpha):\n",
    "    s1+=random.choice(l1)\n",
    "for i in range(0,num):\n",
    "    s2+=random.choice(l2)\n",
    "for i in range(0,symb):\n",
    "    s3+=random.choice(l3)\n",
    "password=s1+s2+s3\n",
    "print(password)\n",
    "final_password=set(password)# using set to randomaly arrange that string password and then again coverting it to string\n",
    "print(*(list(final_password)),\" : Is your new generated desired password\")"
   ]
  },
  {
   "cell_type": "code",
   "execution_count": 43,
   "id": "a89bdac5",
   "metadata": {},
   "outputs": [
    {
     "name": "stdout",
     "output_type": "stream",
     "text": [
      "Welcome to the password generator!!\n",
      "how many letters you need in your passcode?\n",
      "8\n",
      "how many numbers you need in your password?\n",
      " 6\n",
      "how many symbols you need in your password?\n",
      " 3\n",
      "['P', 'T', 'U', 'W', 'I', 'u', 'q', 'F', '7', '5', '2', '7', '4', '0', '!', '_', '+']\n",
      "!Wq05P7_4Fu2+UIT7  : Is your new generated desired password\n"
     ]
    }
   ],
   "source": [
    "# 2st method \n",
    "print(\"Welcome to the password generator!!\")\n",
    "import random\n",
    "l1=['a','b','c','d','e','f','g','h','i','j','k','l','m','n','o','p','q','r','s','t','u','v','w','x','y','z','A','B'\n",
    "    , 'C', 'D', 'E', 'F', 'G', 'H', 'I', 'J', 'K', 'L', 'M', 'N', 'O', 'P', 'Q', 'R', 'S', 'T', 'U', 'V', 'W', 'X', 'Y', 'Z']\n",
    "l2=['0','1','2','3','4','5','6','7','8','9']\n",
    "l3=['!','@','#','$','%','^','&','*','(',')','_','-','+','=','~']\n",
    "alpha=int(input(\"how many letters you need in your passcode?\\n\" ))\n",
    "num=int(input(\"how many numbers you need in your password?\\n \"))\n",
    "symb=int(input(\"how many symbols you need in your password?\\n \"))\n",
    "l=[]\n",
    "for i in range(0,alpha):\n",
    "    l+=random.choice(l1)\n",
    "for i in range(0,num):\n",
    "    l+=random.choice(l2)\n",
    "for i in range(0,symb):\n",
    "    l+=random.choice(l3)\n",
    "password=l\n",
    "print(password)\n",
    "random.shuffle(password)# using shuffle function in random module for randomaly arrange that string password and then again coverting it to string\n",
    "s=\"\"\n",
    "for i in password:\n",
    "    s+=i\n",
    "print(s,\" : Is your new generated desired password\")"
   ]
  },
  {
   "cell_type": "code",
   "execution_count": 45,
   "id": "d0f9f47a",
   "metadata": {},
   "outputs": [
    {
     "name": "stdout",
     "output_type": "stream",
     "text": [
      "1\n",
      "4\n",
      "9\n",
      "16\n",
      "25\n",
      "25\n"
     ]
    }
   ],
   "source": [
    "#sum of even no's from 1 to 10\n",
    "t=0\n",
    "for i in range(1,11,2):\n",
    "    t+=i\n",
    "    print(t)\n",
    "print(t)\n",
    "    "
   ]
  },
  {
   "cell_type": "code",
   "execution_count": null,
   "id": "f1a8a2e3",
   "metadata": {},
   "outputs": [],
   "source": []
  }
 ],
 "metadata": {
  "kernelspec": {
   "display_name": "Python 3 (ipykernel)",
   "language": "python",
   "name": "python3"
  },
  "language_info": {
   "codemirror_mode": {
    "name": "ipython",
    "version": 3
   },
   "file_extension": ".py",
   "mimetype": "text/x-python",
   "name": "python",
   "nbconvert_exporter": "python",
   "pygments_lexer": "ipython3",
   "version": "3.9.7"
  }
 },
 "nbformat": 4,
 "nbformat_minor": 5
}
