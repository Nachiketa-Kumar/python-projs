{
 "cells": [
  {
   "cell_type": "code",
   "execution_count": 1,
   "id": "4ab8fca8",
   "metadata": {},
   "outputs": [
    {
     "name": "stdout",
     "output_type": "stream",
     "text": [
      "Day 1 - Python Print Function\n",
      "The function is declared like this:\n",
      "print('what to print')\n"
     ]
    }
   ],
   "source": [
    "print(\"Day 1 - Python Print Function\")\n",
    "print(\"The function is declared like this:\")\n",
    "print(\"print('what to print')\")"
   ]
  },
  {
   "cell_type": "code",
   "execution_count": 6,
   "id": "82ede7b5",
   "metadata": {},
   "outputs": [
    {
     "name": "stdout",
     "output_type": "stream",
     "text": [
      "Hello World \n",
      "This is called escape sequence \n",
      "Hello Again!\n"
     ]
    }
   ],
   "source": [
    "print(\"Hello World \\nThis is called escape sequence \\nHello Again!\")"
   ]
  },
  {
   "cell_type": "code",
   "execution_count": 9,
   "id": "c1505b70",
   "metadata": {},
   "outputs": [
    {
     "name": "stdout",
     "output_type": "stream",
     "text": [
      "Hello Abhi\n"
     ]
    }
   ],
   "source": [
    "#concatenation in print\n",
    "print(\"Hello\"+\" Abhi\")"
   ]
  },
  {
   "cell_type": "code",
   "execution_count": 14,
   "id": "07e76552",
   "metadata": {},
   "outputs": [
    {
     "name": "stdout",
     "output_type": "stream",
     "text": [
      "what is your name? Nachiketa\n",
      "Nachiketa\n"
     ]
    }
   ],
   "source": [
    "#input\n",
    "s=input(\"what is your name? \")\n",
    "print(s)"
   ]
  },
  {
   "cell_type": "code",
   "execution_count": 26,
   "id": "7fba66cc",
   "metadata": {},
   "outputs": [
    {
     "name": "stdout",
     "output_type": "stream",
     "text": [
      "What's your name? Nachiketa\n",
      "Hello \n",
      "Nachiketa\n"
     ]
    }
   ],
   "source": [
    "# input() within print()\n",
    "print(\"Hello \\n\"+ input(\"What's your name? \"))"
   ]
  },
  {
   "cell_type": "code",
   "execution_count": 28,
   "id": "eb8b4db3",
   "metadata": {},
   "outputs": [
    {
     "name": "stdout",
     "output_type": "stream",
     "text": [
      "Enter your name: Nachiketa\n",
      "9\n"
     ]
    }
   ],
   "source": [
    "#print no of chars in string\n",
    "print(len(input(\"Enter your name: \")))\n"
   ]
  },
  {
   "cell_type": "code",
   "execution_count": 31,
   "id": "3de4c31e",
   "metadata": {},
   "outputs": [
    {
     "name": "stdout",
     "output_type": "stream",
     "text": [
      "Hello World\n",
      "Hello World\n",
      "11\n"
     ]
    }
   ],
   "source": [
    "#variables - they are changing values associated with some character or alhanum, variables can be changed.\n",
    "name=input() #name is a string variable\n",
    "#print(name+\" the type is-> \"+ type(name))\n",
    "print(name)\n",
    "print(len(name))"
   ]
  },
  {
   "cell_type": "code",
   "execution_count": 35,
   "id": "8f039aa4",
   "metadata": {},
   "outputs": [
    {
     "name": "stdout",
     "output_type": "stream",
     "text": [
      "3 5\n"
     ]
    }
   ],
   "source": [
    "a,b=3,5\n",
    "print(a,b)"
   ]
  },
  {
   "cell_type": "code",
   "execution_count": 42,
   "id": "6f8ccfb1",
   "metadata": {},
   "outputs": [
    {
     "name": "stdout",
     "output_type": "stream",
     "text": [
      "8\n",
      "10\n",
      "10 \n",
      " 8\n"
     ]
    }
   ],
   "source": [
    "a=int(input())\n",
    "b=int(input())\n",
    "c=a\n",
    "a=b\n",
    "b=c\n",
    "print(a,\"\\n\",b)"
   ]
  },
  {
   "cell_type": "markdown",
   "id": "38da5b4e",
   "metadata": {},
   "source": [
    "## PROJECT-1\n",
    "### Music Band Name Generator"
   ]
  },
  {
   "cell_type": "code",
   "execution_count": 53,
   "id": "663d78a8",
   "metadata": {},
   "outputs": [
    {
     "name": "stdout",
     "output_type": "stream",
     "text": [
      "No of Band names you need to generate 2\n",
      "enter your city name? Lucknow\n",
      "enter your pet name? liger\n",
      "Lucknow liger\n",
      "enter your city name? Chennai\n",
      "enter your pet name? king\n",
      "Chennai king\n"
     ]
    }
   ],
   "source": [
    "n=int(input(\"No of Band names you need to generate \"))\n",
    "for i in range(n):\n",
    "    s1=input(\"enter your city name? \")\n",
    "    s2=input(\"enter your pet name? \")\n",
    "    print(s1+\" \"+s2)"
   ]
  },
  {
   "cell_type": "code",
   "execution_count": null,
   "id": "e04b674d",
   "metadata": {},
   "outputs": [],
   "source": []
  },
  {
   "cell_type": "code",
   "execution_count": null,
   "id": "9deba57b",
   "metadata": {},
   "outputs": [],
   "source": []
  }
 ],
 "metadata": {
  "kernelspec": {
   "display_name": "Python 3 (ipykernel)",
   "language": "python",
   "name": "python3"
  },
  "language_info": {
   "codemirror_mode": {
    "name": "ipython",
    "version": 3
   },
   "file_extension": ".py",
   "mimetype": "text/x-python",
   "name": "python",
   "nbconvert_exporter": "python",
   "pygments_lexer": "ipython3",
   "version": "3.9.7"
  }
 },
 "nbformat": 4,
 "nbformat_minor": 5
}
